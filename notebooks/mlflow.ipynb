{
 "cells": [
  {
   "cell_type": "code",
   "execution_count": 29,
   "metadata": {},
   "outputs": [],
   "source": [
    "from pathlib import Path\n",
    "\n",
    "import mlflow\n",
    "from mlflow.tracking import MlflowClient\n",
    "import altair as alt\n",
    "import polars as pl\n",
    "import pandas as pd"
   ]
  },
  {
   "cell_type": "code",
   "execution_count": 2,
   "metadata": {},
   "outputs": [],
   "source": [
    "client = MlflowClient()"
   ]
  },
  {
   "cell_type": "code",
   "execution_count": 3,
   "metadata": {},
   "outputs": [
    {
     "data": {
      "text/plain": [
       "'file:///Users/zacklarsen/Documents/Projects/kaggle/kaggle-paris-housing-prices/notebooks/mlruns'"
      ]
     },
     "execution_count": 3,
     "metadata": {},
     "output_type": "execute_result"
    }
   ],
   "source": [
    "mlflow.get_tracking_uri()"
   ]
  },
  {
   "cell_type": "code",
   "execution_count": 4,
   "metadata": {},
   "outputs": [],
   "source": [
    "mlflow.set_tracking_uri('file:///Users/zacklarsen/Documents/Projects/kaggle/kaggle-paris-housing-prices/mlruns')"
   ]
  },
  {
   "cell_type": "markdown",
   "metadata": {},
   "source": [
    "## Restart client with updated tracking URI"
   ]
  },
  {
   "cell_type": "code",
   "execution_count": 5,
   "metadata": {},
   "outputs": [],
   "source": [
    "client = MlflowClient()"
   ]
  },
  {
   "cell_type": "code",
   "execution_count": 6,
   "metadata": {},
   "outputs": [
    {
     "ename": "MlflowException",
     "evalue": "Could not find experiment with ID 0",
     "output_type": "error",
     "traceback": [
      "\u001b[0;31m---------------------------------------------------------------------------\u001b[0m",
      "\u001b[0;31mMlflowException\u001b[0m                           Traceback (most recent call last)",
      "\u001b[1;32m/Users/zacklarsen/Documents/Projects/kaggle/kaggle-paris-housing-prices/notebooks/mlflow.ipynb Cell 7\u001b[0m line \u001b[0;36m1\n\u001b[0;32m----> <a href='vscode-notebook-cell:/Users/zacklarsen/Documents/Projects/kaggle/kaggle-paris-housing-prices/notebooks/mlflow.ipynb#X55sZmlsZQ%3D%3D?line=0'>1</a>\u001b[0m \u001b[39mwith\u001b[39;00m mlflow\u001b[39m.\u001b[39;49mstart_run():\n\u001b[1;32m      <a href='vscode-notebook-cell:/Users/zacklarsen/Documents/Projects/kaggle/kaggle-paris-housing-prices/notebooks/mlflow.ipynb#X55sZmlsZQ%3D%3D?line=1'>2</a>\u001b[0m     mlflow\u001b[39m.\u001b[39mdoctor()\n",
      "File \u001b[0;32m~/mambaforge/envs/kaggle_paris/lib/python3.10/site-packages/mlflow/tracking/fluent.py:366\u001b[0m, in \u001b[0;36mstart_run\u001b[0;34m(run_id, experiment_id, run_name, nested, tags, description)\u001b[0m\n\u001b[1;32m    362\u001b[0m         user_specified_tags[MLFLOW_RUN_NAME] \u001b[39m=\u001b[39m run_name\n\u001b[1;32m    364\u001b[0m     resolved_tags \u001b[39m=\u001b[39m context_registry\u001b[39m.\u001b[39mresolve_tags(user_specified_tags)\n\u001b[0;32m--> 366\u001b[0m     active_run_obj \u001b[39m=\u001b[39m client\u001b[39m.\u001b[39;49mcreate_run(\n\u001b[1;32m    367\u001b[0m         experiment_id\u001b[39m=\u001b[39;49mexp_id_for_run, tags\u001b[39m=\u001b[39;49mresolved_tags, run_name\u001b[39m=\u001b[39;49mrun_name\n\u001b[1;32m    368\u001b[0m     )\n\u001b[1;32m    370\u001b[0m _active_run_stack\u001b[39m.\u001b[39mappend(ActiveRun(active_run_obj))\n\u001b[1;32m    371\u001b[0m \u001b[39mreturn\u001b[39;00m _active_run_stack[\u001b[39m-\u001b[39m\u001b[39m1\u001b[39m]\n",
      "File \u001b[0;32m~/mambaforge/envs/kaggle_paris/lib/python3.10/site-packages/mlflow/tracking/client.py:326\u001b[0m, in \u001b[0;36mMlflowClient.create_run\u001b[0;34m(self, experiment_id, start_time, tags, run_name)\u001b[0m\n\u001b[1;32m    275\u001b[0m \u001b[39mdef\u001b[39;00m \u001b[39mcreate_run\u001b[39m(\n\u001b[1;32m    276\u001b[0m     \u001b[39mself\u001b[39m,\n\u001b[1;32m    277\u001b[0m     experiment_id: \u001b[39mstr\u001b[39m,\n\u001b[0;32m   (...)\u001b[0m\n\u001b[1;32m    280\u001b[0m     run_name: Optional[\u001b[39mstr\u001b[39m] \u001b[39m=\u001b[39m \u001b[39mNone\u001b[39;00m,\n\u001b[1;32m    281\u001b[0m ) \u001b[39m-\u001b[39m\u001b[39m>\u001b[39m Run:\n\u001b[1;32m    282\u001b[0m \u001b[39m    \u001b[39m\u001b[39m\"\"\"\u001b[39;00m\n\u001b[1;32m    283\u001b[0m \u001b[39m    Create a :py:class:`mlflow.entities.Run` object that can be associated with\u001b[39;00m\n\u001b[1;32m    284\u001b[0m \u001b[39m    metrics, parameters, artifacts, etc.\u001b[39;00m\n\u001b[0;32m   (...)\u001b[0m\n\u001b[1;32m    324\u001b[0m \u001b[39m        status: RUNNING\u001b[39;00m\n\u001b[1;32m    325\u001b[0m \u001b[39m    \"\"\"\u001b[39;00m\n\u001b[0;32m--> 326\u001b[0m     \u001b[39mreturn\u001b[39;00m \u001b[39mself\u001b[39;49m\u001b[39m.\u001b[39;49m_tracking_client\u001b[39m.\u001b[39;49mcreate_run(experiment_id, start_time, tags, run_name)\n",
      "File \u001b[0;32m~/mambaforge/envs/kaggle_paris/lib/python3.10/site-packages/mlflow/tracking/_tracking_service/client.py:133\u001b[0m, in \u001b[0;36mTrackingServiceClient.create_run\u001b[0;34m(self, experiment_id, start_time, tags, run_name)\u001b[0m\n\u001b[1;32m    128\u001b[0m \u001b[39m# Extract user from tags\u001b[39;00m\n\u001b[1;32m    129\u001b[0m \u001b[39m# This logic is temporary; the user_id attribute of runs is deprecated and will be removed\u001b[39;00m\n\u001b[1;32m    130\u001b[0m \u001b[39m# in a later release.\u001b[39;00m\n\u001b[1;32m    131\u001b[0m user_id \u001b[39m=\u001b[39m tags\u001b[39m.\u001b[39mget(MLFLOW_USER, \u001b[39m\"\u001b[39m\u001b[39munknown\u001b[39m\u001b[39m\"\u001b[39m)\n\u001b[0;32m--> 133\u001b[0m \u001b[39mreturn\u001b[39;00m \u001b[39mself\u001b[39;49m\u001b[39m.\u001b[39;49mstore\u001b[39m.\u001b[39;49mcreate_run(\n\u001b[1;32m    134\u001b[0m     experiment_id\u001b[39m=\u001b[39;49mexperiment_id,\n\u001b[1;32m    135\u001b[0m     user_id\u001b[39m=\u001b[39;49muser_id,\n\u001b[1;32m    136\u001b[0m     start_time\u001b[39m=\u001b[39;49mstart_time \u001b[39mor\u001b[39;49;00m get_current_time_millis(),\n\u001b[1;32m    137\u001b[0m     tags\u001b[39m=\u001b[39;49m[RunTag(key, value) \u001b[39mfor\u001b[39;49;00m (key, value) \u001b[39min\u001b[39;49;00m tags\u001b[39m.\u001b[39;49mitems()],\n\u001b[1;32m    138\u001b[0m     run_name\u001b[39m=\u001b[39;49mrun_name,\n\u001b[1;32m    139\u001b[0m )\n",
      "File \u001b[0;32m~/mambaforge/envs/kaggle_paris/lib/python3.10/site-packages/mlflow/store/tracking/file_store.py:606\u001b[0m, in \u001b[0;36mFileStore.create_run\u001b[0;34m(self, experiment_id, user_id, start_time, tags, run_name)\u001b[0m\n\u001b[1;32m    602\u001b[0m \u001b[39m\u001b[39m\u001b[39m\"\"\"\u001b[39;00m\n\u001b[1;32m    603\u001b[0m \u001b[39mCreates a run with the specified attributes.\u001b[39;00m\n\u001b[1;32m    604\u001b[0m \u001b[39m\"\"\"\u001b[39;00m\n\u001b[1;32m    605\u001b[0m experiment_id \u001b[39m=\u001b[39m FileStore\u001b[39m.\u001b[39mDEFAULT_EXPERIMENT_ID \u001b[39mif\u001b[39;00m experiment_id \u001b[39mis\u001b[39;00m \u001b[39mNone\u001b[39;00m \u001b[39melse\u001b[39;00m experiment_id\n\u001b[0;32m--> 606\u001b[0m experiment \u001b[39m=\u001b[39m \u001b[39mself\u001b[39;49m\u001b[39m.\u001b[39;49mget_experiment(experiment_id)\n\u001b[1;32m    607\u001b[0m \u001b[39mif\u001b[39;00m experiment \u001b[39mis\u001b[39;00m \u001b[39mNone\u001b[39;00m:\n\u001b[1;32m    608\u001b[0m     \u001b[39mraise\u001b[39;00m MlflowException(\n\u001b[1;32m    609\u001b[0m         \u001b[39m\"\u001b[39m\u001b[39mCould not create run under experiment with ID \u001b[39m\u001b[39m%s\u001b[39;00m\u001b[39m - no such experiment \u001b[39m\u001b[39m\"\u001b[39m\n\u001b[1;32m    610\u001b[0m         \u001b[39m\"\u001b[39m\u001b[39mexists.\u001b[39m\u001b[39m\"\u001b[39m \u001b[39m%\u001b[39m experiment_id,\n\u001b[1;32m    611\u001b[0m         databricks_pb2\u001b[39m.\u001b[39mRESOURCE_DOES_NOT_EXIST,\n\u001b[1;32m    612\u001b[0m     )\n",
      "File \u001b[0;32m~/mambaforge/envs/kaggle_paris/lib/python3.10/site-packages/mlflow/store/tracking/file_store.py:420\u001b[0m, in \u001b[0;36mFileStore.get_experiment\u001b[0;34m(self, experiment_id)\u001b[0m\n\u001b[1;32m    412\u001b[0m \u001b[39m\u001b[39m\u001b[39m\"\"\"\u001b[39;00m\n\u001b[1;32m    413\u001b[0m \u001b[39mFetch the experiment.\u001b[39;00m\n\u001b[1;32m    414\u001b[0m \u001b[39mNote: This API will search for active as well as deleted experiments.\u001b[39;00m\n\u001b[0;32m   (...)\u001b[0m\n\u001b[1;32m    417\u001b[0m \u001b[39m:return: A single Experiment object if it exists, otherwise raises an Exception.\u001b[39;00m\n\u001b[1;32m    418\u001b[0m \u001b[39m\"\"\"\u001b[39;00m\n\u001b[1;32m    419\u001b[0m experiment_id \u001b[39m=\u001b[39m FileStore\u001b[39m.\u001b[39mDEFAULT_EXPERIMENT_ID \u001b[39mif\u001b[39;00m experiment_id \u001b[39mis\u001b[39;00m \u001b[39mNone\u001b[39;00m \u001b[39melse\u001b[39;00m experiment_id\n\u001b[0;32m--> 420\u001b[0m experiment \u001b[39m=\u001b[39m \u001b[39mself\u001b[39;49m\u001b[39m.\u001b[39;49m_get_experiment(experiment_id)\n\u001b[1;32m    421\u001b[0m \u001b[39mif\u001b[39;00m experiment \u001b[39mis\u001b[39;00m \u001b[39mNone\u001b[39;00m:\n\u001b[1;32m    422\u001b[0m     \u001b[39mraise\u001b[39;00m MlflowException(\n\u001b[1;32m    423\u001b[0m         \u001b[39mf\u001b[39m\u001b[39m\"\u001b[39m\u001b[39mExperiment \u001b[39m\u001b[39m'\u001b[39m\u001b[39m{\u001b[39;00mexperiment_id\u001b[39m}\u001b[39;00m\u001b[39m'\u001b[39m\u001b[39m does not exist.\u001b[39m\u001b[39m\"\u001b[39m,\n\u001b[1;32m    424\u001b[0m         databricks_pb2\u001b[39m.\u001b[39mRESOURCE_DOES_NOT_EXIST,\n\u001b[1;32m    425\u001b[0m     )\n",
      "File \u001b[0;32m~/mambaforge/envs/kaggle_paris/lib/python3.10/site-packages/mlflow/store/tracking/file_store.py:393\u001b[0m, in \u001b[0;36mFileStore._get_experiment\u001b[0;34m(self, experiment_id, view_type)\u001b[0m\n\u001b[1;32m    391\u001b[0m experiment_dir \u001b[39m=\u001b[39m \u001b[39mself\u001b[39m\u001b[39m.\u001b[39m_get_experiment_path(experiment_id, view_type)\n\u001b[1;32m    392\u001b[0m \u001b[39mif\u001b[39;00m experiment_dir \u001b[39mis\u001b[39;00m \u001b[39mNone\u001b[39;00m:\n\u001b[0;32m--> 393\u001b[0m     \u001b[39mraise\u001b[39;00m MlflowException(\n\u001b[1;32m    394\u001b[0m         \u001b[39mf\u001b[39m\u001b[39m\"\u001b[39m\u001b[39mCould not find experiment with ID \u001b[39m\u001b[39m{\u001b[39;00mexperiment_id\u001b[39m}\u001b[39;00m\u001b[39m\"\u001b[39m,\n\u001b[1;32m    395\u001b[0m         databricks_pb2\u001b[39m.\u001b[39mRESOURCE_DOES_NOT_EXIST,\n\u001b[1;32m    396\u001b[0m     )\n\u001b[1;32m    397\u001b[0m meta \u001b[39m=\u001b[39m FileStore\u001b[39m.\u001b[39m_read_yaml(experiment_dir, FileStore\u001b[39m.\u001b[39mMETA_DATA_FILE_NAME)\n\u001b[1;32m    398\u001b[0m meta[\u001b[39m\"\u001b[39m\u001b[39mtags\u001b[39m\u001b[39m\"\u001b[39m] \u001b[39m=\u001b[39m \u001b[39mself\u001b[39m\u001b[39m.\u001b[39mget_all_experiment_tags(experiment_id)\n",
      "\u001b[0;31mMlflowException\u001b[0m: Could not find experiment with ID 0"
     ]
    }
   ],
   "source": [
    "with mlflow.start_run():\n",
    "    mlflow.doctor()"
   ]
  },
  {
   "cell_type": "code",
   "execution_count": 7,
   "metadata": {},
   "outputs": [
    {
     "data": {
      "text/plain": [
       "'file:///Users/zacklarsen/Documents/Projects/kaggle/kaggle-paris-housing-prices/mlruns'"
      ]
     },
     "execution_count": 7,
     "metadata": {},
     "output_type": "execute_result"
    }
   ],
   "source": [
    "mlflow.get_tracking_uri()"
   ]
  },
  {
   "cell_type": "code",
   "execution_count": 8,
   "metadata": {},
   "outputs": [],
   "source": [
    "# mlflow.set_registry_uri(\"sqlite:////tmp/registry.db\")"
   ]
  },
  {
   "cell_type": "code",
   "execution_count": 9,
   "metadata": {},
   "outputs": [],
   "source": [
    "mr_uri = mlflow.get_registry_uri()"
   ]
  },
  {
   "cell_type": "code",
   "execution_count": 10,
   "metadata": {},
   "outputs": [
    {
     "name": "stdout",
     "output_type": "stream",
     "text": [
      "Current registry uri: file:///Users/zacklarsen/Documents/Projects/kaggle/kaggle-paris-housing-prices/mlruns\n"
     ]
    }
   ],
   "source": [
    "print(f\"Current registry uri: {mr_uri}\")"
   ]
  },
  {
   "cell_type": "code",
   "execution_count": 11,
   "metadata": {},
   "outputs": [
    {
     "name": "stdout",
     "output_type": "stream",
     "text": [
      "Current tracking uri: file:///Users/zacklarsen/Documents/Projects/kaggle/kaggle-paris-housing-prices/mlruns\n"
     ]
    }
   ],
   "source": [
    "tracking_uri = mlflow.get_tracking_uri()\n",
    "print(f\"Current tracking uri: {tracking_uri}\")"
   ]
  },
  {
   "cell_type": "code",
   "execution_count": null,
   "metadata": {},
   "outputs": [],
   "source": []
  },
  {
   "cell_type": "code",
   "execution_count": null,
   "metadata": {},
   "outputs": [],
   "source": []
  },
  {
   "cell_type": "code",
   "execution_count": 12,
   "metadata": {},
   "outputs": [
    {
     "name": "stderr",
     "output_type": "stream",
     "text": [
      "WARNING:root:Malformed experiment 'mlruns'. Detailed error Yaml file '/Users/zacklarsen/Documents/Projects/kaggle/kaggle-paris-housing-prices/mlruns/mlruns/meta.yaml' does not exist.\n",
      "Traceback (most recent call last):\n",
      "  File \"/Users/zacklarsen/mambaforge/envs/kaggle_paris/lib/python3.10/site-packages/mlflow/store/tracking/file_store.py\", line 304, in search_experiments\n",
      "    exp = self._get_experiment(exp_id, view_type)\n",
      "  File \"/Users/zacklarsen/mambaforge/envs/kaggle_paris/lib/python3.10/site-packages/mlflow/store/tracking/file_store.py\", line 397, in _get_experiment\n",
      "    meta = FileStore._read_yaml(experiment_dir, FileStore.META_DATA_FILE_NAME)\n",
      "  File \"/Users/zacklarsen/mambaforge/envs/kaggle_paris/lib/python3.10/site-packages/mlflow/store/tracking/file_store.py\", line 1306, in _read_yaml\n",
      "    return _read_helper(root, file_name, attempts_remaining=retries)\n",
      "  File \"/Users/zacklarsen/mambaforge/envs/kaggle_paris/lib/python3.10/site-packages/mlflow/store/tracking/file_store.py\", line 1299, in _read_helper\n",
      "    result = read_yaml(root, file_name)\n",
      "  File \"/Users/zacklarsen/mambaforge/envs/kaggle_paris/lib/python3.10/site-packages/mlflow/utils/file_utils.py\", line 282, in read_yaml\n",
      "    raise MissingConfigException(f\"Yaml file '{file_path}' does not exist.\")\n",
      "mlflow.exceptions.MissingConfigException: Yaml file '/Users/zacklarsen/Documents/Projects/kaggle/kaggle-paris-housing-prices/mlruns/mlruns/meta.yaml' does not exist.\n"
     ]
    }
   ],
   "source": [
    "all_experiments = client.search_experiments()"
   ]
  },
  {
   "cell_type": "code",
   "execution_count": 13,
   "metadata": {},
   "outputs": [
    {
     "data": {
      "text/plain": [
       "[<Experiment: artifact_location='file:///Users/zacklarsen/Documents/Projects/kaggle/kaggle-paris-housing-prices/mlruns/225609496909544833', creation_time=1701015393542, experiment_id='225609496909544833', last_update_time=1701015393542, lifecycle_stage='active', name='Kaggle Paris Housing', tags={}>]"
      ]
     },
     "execution_count": 13,
     "metadata": {},
     "output_type": "execute_result"
    }
   ],
   "source": [
    "all_experiments"
   ]
  },
  {
   "cell_type": "code",
   "execution_count": null,
   "metadata": {},
   "outputs": [],
   "source": []
  },
  {
   "cell_type": "code",
   "execution_count": 14,
   "metadata": {},
   "outputs": [],
   "source": [
    "# experiment_id = mlflow.create_experiment(\n",
    "#     \"Kaggle Paris Housing\",\n",
    "#     artifact_location=Path.cwd().joinpath(\"mlruns\").as_uri(),\n",
    "#     tags={\"version\": \"v1\", \"priority\": \"P1\"}\n",
    "# )"
   ]
  },
  {
   "cell_type": "code",
   "execution_count": 15,
   "metadata": {},
   "outputs": [],
   "source": [
    "# experiment_id = '0'\n",
    "experiment_id = '225609496909544833'\n",
    "experiment = mlflow.get_experiment(experiment_id)"
   ]
  },
  {
   "cell_type": "code",
   "execution_count": 16,
   "metadata": {},
   "outputs": [
    {
     "data": {
      "text/plain": [
       "<Experiment: artifact_location='file:///Users/zacklarsen/Documents/Projects/kaggle/kaggle-paris-housing-prices/mlruns/225609496909544833', creation_time=1701015393542, experiment_id='225609496909544833', last_update_time=1701015393542, lifecycle_stage='active', name='Kaggle Paris Housing', tags={}>"
      ]
     },
     "execution_count": 16,
     "metadata": {},
     "output_type": "execute_result"
    }
   ],
   "source": [
    "experiment"
   ]
  },
  {
   "cell_type": "code",
   "execution_count": 17,
   "metadata": {},
   "outputs": [
    {
     "name": "stdout",
     "output_type": "stream",
     "text": [
      "Name: Kaggle Paris Housing\n",
      "Experiment_id: 225609496909544833\n",
      "Artifact Location: file:///Users/zacklarsen/Documents/Projects/kaggle/kaggle-paris-housing-prices/mlruns/225609496909544833\n",
      "Tags: {}\n",
      "Lifecycle_stage: active\n",
      "Creation timestamp: 1701015393542\n"
     ]
    }
   ],
   "source": [
    "print(f\"Name: {experiment.name}\")\n",
    "print(f\"Experiment_id: {experiment.experiment_id}\")\n",
    "print(f\"Artifact Location: {experiment.artifact_location}\")\n",
    "print(f\"Tags: {experiment.tags}\")\n",
    "print(f\"Lifecycle_stage: {experiment.lifecycle_stage}\")\n",
    "print(f\"Creation timestamp: {experiment.creation_time}\")"
   ]
  },
  {
   "cell_type": "code",
   "execution_count": null,
   "metadata": {},
   "outputs": [],
   "source": []
  },
  {
   "cell_type": "code",
   "execution_count": 21,
   "metadata": {},
   "outputs": [],
   "source": [
    "artifacts = [f.path for f in client.list_artifacts('3b9bb2258bfe4efe856f086e67492cac', \"model\")]"
   ]
  },
  {
   "cell_type": "code",
   "execution_count": 22,
   "metadata": {},
   "outputs": [
    {
     "data": {
      "text/plain": [
       "['model/MLmodel',\n",
       " 'model/conda.yaml',\n",
       " 'model/model.pkl',\n",
       " 'model/python_env.yaml',\n",
       " 'model/requirements.txt']"
      ]
     },
     "execution_count": 22,
     "metadata": {},
     "output_type": "execute_result"
    }
   ],
   "source": [
    "artifacts"
   ]
  },
  {
   "cell_type": "code",
   "execution_count": null,
   "metadata": {},
   "outputs": [],
   "source": []
  },
  {
   "cell_type": "markdown",
   "metadata": {},
   "source": [
    "## Viewing run metrics"
   ]
  },
  {
   "cell_type": "code",
   "execution_count": 23,
   "metadata": {},
   "outputs": [],
   "source": [
    "experiment_id = \"225609496909544833\"\n",
    "df_runs = mlflow.search_runs(experiment_ids=[experiment_id])\n"
   ]
  },
  {
   "cell_type": "code",
   "execution_count": 24,
   "metadata": {},
   "outputs": [
    {
     "data": {
      "text/html": [
       "<div>\n",
       "<style scoped>\n",
       "    .dataframe tbody tr th:only-of-type {\n",
       "        vertical-align: middle;\n",
       "    }\n",
       "\n",
       "    .dataframe tbody tr th {\n",
       "        vertical-align: top;\n",
       "    }\n",
       "\n",
       "    .dataframe thead th {\n",
       "        text-align: right;\n",
       "    }\n",
       "</style>\n",
       "<table border=\"1\" class=\"dataframe\">\n",
       "  <thead>\n",
       "    <tr style=\"text-align: right;\">\n",
       "      <th></th>\n",
       "      <th>run_id</th>\n",
       "      <th>experiment_id</th>\n",
       "      <th>status</th>\n",
       "      <th>artifact_uri</th>\n",
       "      <th>start_time</th>\n",
       "      <th>end_time</th>\n",
       "      <th>metrics.training_mean_absolute_error</th>\n",
       "      <th>metrics.training_root_mean_squared_error</th>\n",
       "      <th>metrics.training_score</th>\n",
       "      <th>metrics.training_mean_squared_error</th>\n",
       "      <th>...</th>\n",
       "      <th>params.copy_X</th>\n",
       "      <th>params.fit_intercept</th>\n",
       "      <th>tags.mlflow.user</th>\n",
       "      <th>tags.mlflow.source.type</th>\n",
       "      <th>tags.mlflow.log-model.history</th>\n",
       "      <th>tags.mlflow.source.git.commit</th>\n",
       "      <th>tags.estimator_class</th>\n",
       "      <th>tags.estimator_name</th>\n",
       "      <th>tags.mlflow.runName</th>\n",
       "      <th>tags.mlflow.source.name</th>\n",
       "    </tr>\n",
       "  </thead>\n",
       "  <tbody>\n",
       "    <tr>\n",
       "      <th>0</th>\n",
       "      <td>3b9bb2258bfe4efe856f086e67492cac</td>\n",
       "      <td>225609496909544833</td>\n",
       "      <td>FINISHED</td>\n",
       "      <td>file:///Users/zacklarsen/Documents/Projects/ka...</td>\n",
       "      <td>2023-11-26 18:32:51.453000+00:00</td>\n",
       "      <td>2023-11-26 18:33:18.976000+00:00</td>\n",
       "      <td>9188.092805</td>\n",
       "      <td>65024.434851</td>\n",
       "      <td>0.999505</td>\n",
       "      <td>4.228177e+09</td>\n",
       "      <td>...</td>\n",
       "      <td>None</td>\n",
       "      <td>None</td>\n",
       "      <td>zacklarsen</td>\n",
       "      <td>LOCAL</td>\n",
       "      <td>[{\"run_id\": \"3b9bb2258bfe4efe856f086e67492cac\"...</td>\n",
       "      <td>15d24a1b20b9b037a292cae3542773fcca10b3b2</td>\n",
       "      <td>sklearn.ensemble._forest.RandomForestRegressor</td>\n",
       "      <td>RandomForestRegressor</td>\n",
       "      <td>RandomForestRegressor</td>\n",
       "      <td>/Users/zacklarsen/Documents/Projects/kaggle/ka...</td>\n",
       "    </tr>\n",
       "    <tr>\n",
       "      <th>1</th>\n",
       "      <td>7b1ae6df4f644f8a8cce64821a5e5a3f</td>\n",
       "      <td>225609496909544833</td>\n",
       "      <td>FINISHED</td>\n",
       "      <td>file:///Users/zacklarsen/Documents/Projects/ka...</td>\n",
       "      <td>2023-11-26 18:25:26.852000+00:00</td>\n",
       "      <td>2023-11-26 18:25:29.692000+00:00</td>\n",
       "      <td>14698.810634</td>\n",
       "      <td>200059.717312</td>\n",
       "      <td>0.995314</td>\n",
       "      <td>4.002389e+10</td>\n",
       "      <td>...</td>\n",
       "      <td>True</td>\n",
       "      <td>True</td>\n",
       "      <td>zacklarsen</td>\n",
       "      <td>LOCAL</td>\n",
       "      <td>[{\"run_id\": \"7b1ae6df4f644f8a8cce64821a5e5a3f\"...</td>\n",
       "      <td>15d24a1b20b9b037a292cae3542773fcca10b3b2</td>\n",
       "      <td>sklearn.linear_model._base.LinearRegression</td>\n",
       "      <td>LinearRegression</td>\n",
       "      <td>LinearRegression</td>\n",
       "      <td>/Users/zacklarsen/Documents/Projects/kaggle/ka...</td>\n",
       "    </tr>\n",
       "    <tr>\n",
       "      <th>2</th>\n",
       "      <td>bacf6a56919e4fb389b2959ed2b628c6</td>\n",
       "      <td>225609496909544833</td>\n",
       "      <td>FINISHED</td>\n",
       "      <td>file:///Users/zacklarsen/Documents/Projects/ka...</td>\n",
       "      <td>2023-11-26 18:21:57.392000+00:00</td>\n",
       "      <td>2023-11-26 18:22:16.741000+00:00</td>\n",
       "      <td>67371.451175</td>\n",
       "      <td>181568.206093</td>\n",
       "      <td>0.996140</td>\n",
       "      <td>3.296701e+10</td>\n",
       "      <td>...</td>\n",
       "      <td>None</td>\n",
       "      <td>None</td>\n",
       "      <td>zacklarsen</td>\n",
       "      <td>LOCAL</td>\n",
       "      <td>[{\"run_id\": \"bacf6a56919e4fb389b2959ed2b628c6\"...</td>\n",
       "      <td>15d24a1b20b9b037a292cae3542773fcca10b3b2</td>\n",
       "      <td>sklearn.ensemble._forest.RandomForestRegressor</td>\n",
       "      <td>RandomForestRegressor</td>\n",
       "      <td>RandomForestRegressor</td>\n",
       "      <td>/Users/zacklarsen/Documents/Projects/kaggle/ka...</td>\n",
       "    </tr>\n",
       "    <tr>\n",
       "      <th>3</th>\n",
       "      <td>ef365e54fc454667b1aab0a03f9d0e68</td>\n",
       "      <td>225609496909544833</td>\n",
       "      <td>FINISHED</td>\n",
       "      <td>file:///Users/zacklarsen/Documents/Projects/ka...</td>\n",
       "      <td>2023-11-26 18:21:01.417000+00:00</td>\n",
       "      <td>2023-11-26 18:21:05.874000+00:00</td>\n",
       "      <td>613561.063273</td>\n",
       "      <td>726488.292740</td>\n",
       "      <td>0.938204</td>\n",
       "      <td>5.277852e+11</td>\n",
       "      <td>...</td>\n",
       "      <td>None</td>\n",
       "      <td>None</td>\n",
       "      <td>zacklarsen</td>\n",
       "      <td>LOCAL</td>\n",
       "      <td>[{\"run_id\": \"ef365e54fc454667b1aab0a03f9d0e68\"...</td>\n",
       "      <td>15d24a1b20b9b037a292cae3542773fcca10b3b2</td>\n",
       "      <td>sklearn.ensemble._forest.RandomForestRegressor</td>\n",
       "      <td>RandomForestRegressor</td>\n",
       "      <td>RandomForestRegressor</td>\n",
       "      <td>/Users/zacklarsen/Documents/Projects/kaggle/ka...</td>\n",
       "    </tr>\n",
       "    <tr>\n",
       "      <th>4</th>\n",
       "      <td>f72906a459034a99afa418d239663add</td>\n",
       "      <td>225609496909544833</td>\n",
       "      <td>FINISHED</td>\n",
       "      <td>file:///Users/zacklarsen/Documents/Projects/ka...</td>\n",
       "      <td>2023-11-26 17:55:45.445000+00:00</td>\n",
       "      <td>2023-11-26 17:55:58.606000+00:00</td>\n",
       "      <td>3613.730720</td>\n",
       "      <td>60083.157944</td>\n",
       "      <td>0.999577</td>\n",
       "      <td>3.609986e+09</td>\n",
       "      <td>...</td>\n",
       "      <td>None</td>\n",
       "      <td>None</td>\n",
       "      <td>zacklarsen</td>\n",
       "      <td>LOCAL</td>\n",
       "      <td>[{\"run_id\": \"f72906a459034a99afa418d239663add\"...</td>\n",
       "      <td>15d24a1b20b9b037a292cae3542773fcca10b3b2</td>\n",
       "      <td>sklearn.ensemble._forest.RandomForestRegressor</td>\n",
       "      <td>RandomForestRegressor</td>\n",
       "      <td>rogue-bass-807</td>\n",
       "      <td>/Users/zacklarsen/Documents/Projects/kaggle/ka...</td>\n",
       "    </tr>\n",
       "    <tr>\n",
       "      <th>5</th>\n",
       "      <td>533300a63e5a4a1592a365c65d692d40</td>\n",
       "      <td>225609496909544833</td>\n",
       "      <td>FAILED</td>\n",
       "      <td>file:///Users/zacklarsen/Documents/Projects/ka...</td>\n",
       "      <td>2023-11-26 17:55:09.462000+00:00</td>\n",
       "      <td>2023-11-26 17:55:09.729000+00:00</td>\n",
       "      <td>NaN</td>\n",
       "      <td>NaN</td>\n",
       "      <td>NaN</td>\n",
       "      <td>NaN</td>\n",
       "      <td>...</td>\n",
       "      <td>None</td>\n",
       "      <td>None</td>\n",
       "      <td>zacklarsen</td>\n",
       "      <td>LOCAL</td>\n",
       "      <td>None</td>\n",
       "      <td>15d24a1b20b9b037a292cae3542773fcca10b3b2</td>\n",
       "      <td>None</td>\n",
       "      <td>None</td>\n",
       "      <td>rumbling-koi-79</td>\n",
       "      <td>/Users/zacklarsen/Documents/Projects/kaggle/ka...</td>\n",
       "    </tr>\n",
       "    <tr>\n",
       "      <th>6</th>\n",
       "      <td>68db303a03904c3b9b51ad673728d0c9</td>\n",
       "      <td>225609496909544833</td>\n",
       "      <td>FINISHED</td>\n",
       "      <td>file:///Users/zacklarsen/Documents/Projects/ka...</td>\n",
       "      <td>2023-11-26 17:00:00.461000+00:00</td>\n",
       "      <td>2023-11-26 17:00:03.484000+00:00</td>\n",
       "      <td>14698.810634</td>\n",
       "      <td>200059.717312</td>\n",
       "      <td>0.995314</td>\n",
       "      <td>4.002389e+10</td>\n",
       "      <td>...</td>\n",
       "      <td>True</td>\n",
       "      <td>True</td>\n",
       "      <td>zacklarsen</td>\n",
       "      <td>LOCAL</td>\n",
       "      <td>[{\"run_id\": \"68db303a03904c3b9b51ad673728d0c9\"...</td>\n",
       "      <td>None</td>\n",
       "      <td>sklearn.linear_model._base.LinearRegression</td>\n",
       "      <td>LinearRegression</td>\n",
       "      <td>LR_model</td>\n",
       "      <td>/Users/zacklarsen/mambaforge/envs/kaggle_paris...</td>\n",
       "    </tr>\n",
       "    <tr>\n",
       "      <th>7</th>\n",
       "      <td>048e4e92b30a49528b6708602bcd1018</td>\n",
       "      <td>225609496909544833</td>\n",
       "      <td>FINISHED</td>\n",
       "      <td>file:///Users/zacklarsen/Documents/Projects/ka...</td>\n",
       "      <td>2023-11-26 16:40:29.143000+00:00</td>\n",
       "      <td>2023-11-26 16:40:31.993000+00:00</td>\n",
       "      <td>14698.810634</td>\n",
       "      <td>200059.717312</td>\n",
       "      <td>0.995314</td>\n",
       "      <td>4.002389e+10</td>\n",
       "      <td>...</td>\n",
       "      <td>True</td>\n",
       "      <td>True</td>\n",
       "      <td>zacklarsen</td>\n",
       "      <td>LOCAL</td>\n",
       "      <td>[{\"run_id\": \"048e4e92b30a49528b6708602bcd1018\"...</td>\n",
       "      <td>15d24a1b20b9b037a292cae3542773fcca10b3b2</td>\n",
       "      <td>sklearn.linear_model._base.LinearRegression</td>\n",
       "      <td>LinearRegression</td>\n",
       "      <td>mercurial-grub-967</td>\n",
       "      <td>/Users/zacklarsen/Documents/Projects/kaggle/ka...</td>\n",
       "    </tr>\n",
       "    <tr>\n",
       "      <th>8</th>\n",
       "      <td>a50bcc9e274d472d977c24821a92c954</td>\n",
       "      <td>225609496909544833</td>\n",
       "      <td>FINISHED</td>\n",
       "      <td>file:///Users/zacklarsen/Documents/Projects/ka...</td>\n",
       "      <td>2023-11-26 16:16:33.599000+00:00</td>\n",
       "      <td>2023-11-26 16:16:36.456000+00:00</td>\n",
       "      <td>14698.810634</td>\n",
       "      <td>200059.717312</td>\n",
       "      <td>0.995314</td>\n",
       "      <td>4.002389e+10</td>\n",
       "      <td>...</td>\n",
       "      <td>True</td>\n",
       "      <td>True</td>\n",
       "      <td>zacklarsen</td>\n",
       "      <td>LOCAL</td>\n",
       "      <td>[{\"run_id\": \"a50bcc9e274d472d977c24821a92c954\"...</td>\n",
       "      <td>c5fffaf6e17e1e406d08da020fcba408e38b3929</td>\n",
       "      <td>sklearn.linear_model._base.LinearRegression</td>\n",
       "      <td>LinearRegression</td>\n",
       "      <td>polite-grub-205</td>\n",
       "      <td>/Users/zacklarsen/Documents/Projects/kaggle/ka...</td>\n",
       "    </tr>\n",
       "  </tbody>\n",
       "</table>\n",
       "<p>9 rows × 39 columns</p>\n",
       "</div>"
      ],
      "text/plain": [
       "                             run_id       experiment_id    status  \\\n",
       "0  3b9bb2258bfe4efe856f086e67492cac  225609496909544833  FINISHED   \n",
       "1  7b1ae6df4f644f8a8cce64821a5e5a3f  225609496909544833  FINISHED   \n",
       "2  bacf6a56919e4fb389b2959ed2b628c6  225609496909544833  FINISHED   \n",
       "3  ef365e54fc454667b1aab0a03f9d0e68  225609496909544833  FINISHED   \n",
       "4  f72906a459034a99afa418d239663add  225609496909544833  FINISHED   \n",
       "5  533300a63e5a4a1592a365c65d692d40  225609496909544833    FAILED   \n",
       "6  68db303a03904c3b9b51ad673728d0c9  225609496909544833  FINISHED   \n",
       "7  048e4e92b30a49528b6708602bcd1018  225609496909544833  FINISHED   \n",
       "8  a50bcc9e274d472d977c24821a92c954  225609496909544833  FINISHED   \n",
       "\n",
       "                                        artifact_uri  \\\n",
       "0  file:///Users/zacklarsen/Documents/Projects/ka...   \n",
       "1  file:///Users/zacklarsen/Documents/Projects/ka...   \n",
       "2  file:///Users/zacklarsen/Documents/Projects/ka...   \n",
       "3  file:///Users/zacklarsen/Documents/Projects/ka...   \n",
       "4  file:///Users/zacklarsen/Documents/Projects/ka...   \n",
       "5  file:///Users/zacklarsen/Documents/Projects/ka...   \n",
       "6  file:///Users/zacklarsen/Documents/Projects/ka...   \n",
       "7  file:///Users/zacklarsen/Documents/Projects/ka...   \n",
       "8  file:///Users/zacklarsen/Documents/Projects/ka...   \n",
       "\n",
       "                        start_time                         end_time  \\\n",
       "0 2023-11-26 18:32:51.453000+00:00 2023-11-26 18:33:18.976000+00:00   \n",
       "1 2023-11-26 18:25:26.852000+00:00 2023-11-26 18:25:29.692000+00:00   \n",
       "2 2023-11-26 18:21:57.392000+00:00 2023-11-26 18:22:16.741000+00:00   \n",
       "3 2023-11-26 18:21:01.417000+00:00 2023-11-26 18:21:05.874000+00:00   \n",
       "4 2023-11-26 17:55:45.445000+00:00 2023-11-26 17:55:58.606000+00:00   \n",
       "5 2023-11-26 17:55:09.462000+00:00 2023-11-26 17:55:09.729000+00:00   \n",
       "6 2023-11-26 17:00:00.461000+00:00 2023-11-26 17:00:03.484000+00:00   \n",
       "7 2023-11-26 16:40:29.143000+00:00 2023-11-26 16:40:31.993000+00:00   \n",
       "8 2023-11-26 16:16:33.599000+00:00 2023-11-26 16:16:36.456000+00:00   \n",
       "\n",
       "   metrics.training_mean_absolute_error  \\\n",
       "0                           9188.092805   \n",
       "1                          14698.810634   \n",
       "2                          67371.451175   \n",
       "3                         613561.063273   \n",
       "4                           3613.730720   \n",
       "5                                   NaN   \n",
       "6                          14698.810634   \n",
       "7                          14698.810634   \n",
       "8                          14698.810634   \n",
       "\n",
       "   metrics.training_root_mean_squared_error  metrics.training_score  \\\n",
       "0                              65024.434851                0.999505   \n",
       "1                             200059.717312                0.995314   \n",
       "2                             181568.206093                0.996140   \n",
       "3                             726488.292740                0.938204   \n",
       "4                              60083.157944                0.999577   \n",
       "5                                       NaN                     NaN   \n",
       "6                             200059.717312                0.995314   \n",
       "7                             200059.717312                0.995314   \n",
       "8                             200059.717312                0.995314   \n",
       "\n",
       "   metrics.training_mean_squared_error  ...  params.copy_X  \\\n",
       "0                         4.228177e+09  ...           None   \n",
       "1                         4.002389e+10  ...           True   \n",
       "2                         3.296701e+10  ...           None   \n",
       "3                         5.277852e+11  ...           None   \n",
       "4                         3.609986e+09  ...           None   \n",
       "5                                  NaN  ...           None   \n",
       "6                         4.002389e+10  ...           True   \n",
       "7                         4.002389e+10  ...           True   \n",
       "8                         4.002389e+10  ...           True   \n",
       "\n",
       "  params.fit_intercept tags.mlflow.user tags.mlflow.source.type  \\\n",
       "0                 None       zacklarsen                   LOCAL   \n",
       "1                 True       zacklarsen                   LOCAL   \n",
       "2                 None       zacklarsen                   LOCAL   \n",
       "3                 None       zacklarsen                   LOCAL   \n",
       "4                 None       zacklarsen                   LOCAL   \n",
       "5                 None       zacklarsen                   LOCAL   \n",
       "6                 True       zacklarsen                   LOCAL   \n",
       "7                 True       zacklarsen                   LOCAL   \n",
       "8                 True       zacklarsen                   LOCAL   \n",
       "\n",
       "                       tags.mlflow.log-model.history  \\\n",
       "0  [{\"run_id\": \"3b9bb2258bfe4efe856f086e67492cac\"...   \n",
       "1  [{\"run_id\": \"7b1ae6df4f644f8a8cce64821a5e5a3f\"...   \n",
       "2  [{\"run_id\": \"bacf6a56919e4fb389b2959ed2b628c6\"...   \n",
       "3  [{\"run_id\": \"ef365e54fc454667b1aab0a03f9d0e68\"...   \n",
       "4  [{\"run_id\": \"f72906a459034a99afa418d239663add\"...   \n",
       "5                                               None   \n",
       "6  [{\"run_id\": \"68db303a03904c3b9b51ad673728d0c9\"...   \n",
       "7  [{\"run_id\": \"048e4e92b30a49528b6708602bcd1018\"...   \n",
       "8  [{\"run_id\": \"a50bcc9e274d472d977c24821a92c954\"...   \n",
       "\n",
       "              tags.mlflow.source.git.commit  \\\n",
       "0  15d24a1b20b9b037a292cae3542773fcca10b3b2   \n",
       "1  15d24a1b20b9b037a292cae3542773fcca10b3b2   \n",
       "2  15d24a1b20b9b037a292cae3542773fcca10b3b2   \n",
       "3  15d24a1b20b9b037a292cae3542773fcca10b3b2   \n",
       "4  15d24a1b20b9b037a292cae3542773fcca10b3b2   \n",
       "5  15d24a1b20b9b037a292cae3542773fcca10b3b2   \n",
       "6                                      None   \n",
       "7  15d24a1b20b9b037a292cae3542773fcca10b3b2   \n",
       "8  c5fffaf6e17e1e406d08da020fcba408e38b3929   \n",
       "\n",
       "                             tags.estimator_class    tags.estimator_name  \\\n",
       "0  sklearn.ensemble._forest.RandomForestRegressor  RandomForestRegressor   \n",
       "1     sklearn.linear_model._base.LinearRegression       LinearRegression   \n",
       "2  sklearn.ensemble._forest.RandomForestRegressor  RandomForestRegressor   \n",
       "3  sklearn.ensemble._forest.RandomForestRegressor  RandomForestRegressor   \n",
       "4  sklearn.ensemble._forest.RandomForestRegressor  RandomForestRegressor   \n",
       "5                                            None                   None   \n",
       "6     sklearn.linear_model._base.LinearRegression       LinearRegression   \n",
       "7     sklearn.linear_model._base.LinearRegression       LinearRegression   \n",
       "8     sklearn.linear_model._base.LinearRegression       LinearRegression   \n",
       "\n",
       "     tags.mlflow.runName                            tags.mlflow.source.name  \n",
       "0  RandomForestRegressor  /Users/zacklarsen/Documents/Projects/kaggle/ka...  \n",
       "1       LinearRegression  /Users/zacklarsen/Documents/Projects/kaggle/ka...  \n",
       "2  RandomForestRegressor  /Users/zacklarsen/Documents/Projects/kaggle/ka...  \n",
       "3  RandomForestRegressor  /Users/zacklarsen/Documents/Projects/kaggle/ka...  \n",
       "4         rogue-bass-807  /Users/zacklarsen/Documents/Projects/kaggle/ka...  \n",
       "5        rumbling-koi-79  /Users/zacklarsen/Documents/Projects/kaggle/ka...  \n",
       "6               LR_model  /Users/zacklarsen/mambaforge/envs/kaggle_paris...  \n",
       "7     mercurial-grub-967  /Users/zacklarsen/Documents/Projects/kaggle/ka...  \n",
       "8        polite-grub-205  /Users/zacklarsen/Documents/Projects/kaggle/ka...  \n",
       "\n",
       "[9 rows x 39 columns]"
      ]
     },
     "execution_count": 24,
     "metadata": {},
     "output_type": "execute_result"
    }
   ],
   "source": [
    "df_runs"
   ]
  },
  {
   "cell_type": "code",
   "execution_count": 25,
   "metadata": {},
   "outputs": [
    {
     "name": "stderr",
     "output_type": "stream",
     "text": [
      "WARNING:root:Malformed experiment 'mlruns'. Detailed error Yaml file '/Users/zacklarsen/Documents/Projects/kaggle/kaggle-paris-housing-prices/mlruns/mlruns/meta.yaml' does not exist.\n",
      "Traceback (most recent call last):\n",
      "  File \"/Users/zacklarsen/mambaforge/envs/kaggle_paris/lib/python3.10/site-packages/mlflow/store/tracking/file_store.py\", line 304, in search_experiments\n",
      "    exp = self._get_experiment(exp_id, view_type)\n",
      "  File \"/Users/zacklarsen/mambaforge/envs/kaggle_paris/lib/python3.10/site-packages/mlflow/store/tracking/file_store.py\", line 397, in _get_experiment\n",
      "    meta = FileStore._read_yaml(experiment_dir, FileStore.META_DATA_FILE_NAME)\n",
      "  File \"/Users/zacklarsen/mambaforge/envs/kaggle_paris/lib/python3.10/site-packages/mlflow/store/tracking/file_store.py\", line 1306, in _read_yaml\n",
      "    return _read_helper(root, file_name, attempts_remaining=retries)\n",
      "  File \"/Users/zacklarsen/mambaforge/envs/kaggle_paris/lib/python3.10/site-packages/mlflow/store/tracking/file_store.py\", line 1299, in _read_helper\n",
      "    result = read_yaml(root, file_name)\n",
      "  File \"/Users/zacklarsen/mambaforge/envs/kaggle_paris/lib/python3.10/site-packages/mlflow/utils/file_utils.py\", line 282, in read_yaml\n",
      "    raise MissingConfigException(f\"Yaml file '{file_path}' does not exist.\")\n",
      "mlflow.exceptions.MissingConfigException: Yaml file '/Users/zacklarsen/Documents/Projects/kaggle/kaggle-paris-housing-prices/mlruns/mlruns/meta.yaml' does not exist.\n"
     ]
    }
   ],
   "source": [
    "experiment_name = \"Kaggle Paris Housing\"\n",
    "experiment = mlflow.get_experiment_by_name(experiment_name)\n",
    "df_runs = mlflow.search_runs(experiment_ids=[experiment.experiment_id])"
   ]
  },
  {
   "cell_type": "code",
   "execution_count": 26,
   "metadata": {},
   "outputs": [
    {
     "data": {
      "text/html": [
       "<div>\n",
       "<style scoped>\n",
       "    .dataframe tbody tr th:only-of-type {\n",
       "        vertical-align: middle;\n",
       "    }\n",
       "\n",
       "    .dataframe tbody tr th {\n",
       "        vertical-align: top;\n",
       "    }\n",
       "\n",
       "    .dataframe thead th {\n",
       "        text-align: right;\n",
       "    }\n",
       "</style>\n",
       "<table border=\"1\" class=\"dataframe\">\n",
       "  <thead>\n",
       "    <tr style=\"text-align: right;\">\n",
       "      <th></th>\n",
       "      <th>run_id</th>\n",
       "      <th>experiment_id</th>\n",
       "      <th>status</th>\n",
       "      <th>artifact_uri</th>\n",
       "      <th>start_time</th>\n",
       "      <th>end_time</th>\n",
       "      <th>metrics.training_mean_absolute_error</th>\n",
       "      <th>metrics.training_root_mean_squared_error</th>\n",
       "      <th>metrics.training_score</th>\n",
       "      <th>metrics.training_mean_squared_error</th>\n",
       "      <th>...</th>\n",
       "      <th>params.copy_X</th>\n",
       "      <th>params.fit_intercept</th>\n",
       "      <th>tags.mlflow.user</th>\n",
       "      <th>tags.mlflow.source.type</th>\n",
       "      <th>tags.mlflow.log-model.history</th>\n",
       "      <th>tags.mlflow.source.git.commit</th>\n",
       "      <th>tags.estimator_class</th>\n",
       "      <th>tags.estimator_name</th>\n",
       "      <th>tags.mlflow.runName</th>\n",
       "      <th>tags.mlflow.source.name</th>\n",
       "    </tr>\n",
       "  </thead>\n",
       "  <tbody>\n",
       "    <tr>\n",
       "      <th>0</th>\n",
       "      <td>3b9bb2258bfe4efe856f086e67492cac</td>\n",
       "      <td>225609496909544833</td>\n",
       "      <td>FINISHED</td>\n",
       "      <td>file:///Users/zacklarsen/Documents/Projects/ka...</td>\n",
       "      <td>2023-11-26 18:32:51.453000+00:00</td>\n",
       "      <td>2023-11-26 18:33:18.976000+00:00</td>\n",
       "      <td>9188.092805</td>\n",
       "      <td>65024.434851</td>\n",
       "      <td>0.999505</td>\n",
       "      <td>4.228177e+09</td>\n",
       "      <td>...</td>\n",
       "      <td>None</td>\n",
       "      <td>None</td>\n",
       "      <td>zacklarsen</td>\n",
       "      <td>LOCAL</td>\n",
       "      <td>[{\"run_id\": \"3b9bb2258bfe4efe856f086e67492cac\"...</td>\n",
       "      <td>15d24a1b20b9b037a292cae3542773fcca10b3b2</td>\n",
       "      <td>sklearn.ensemble._forest.RandomForestRegressor</td>\n",
       "      <td>RandomForestRegressor</td>\n",
       "      <td>RandomForestRegressor</td>\n",
       "      <td>/Users/zacklarsen/Documents/Projects/kaggle/ka...</td>\n",
       "    </tr>\n",
       "    <tr>\n",
       "      <th>1</th>\n",
       "      <td>7b1ae6df4f644f8a8cce64821a5e5a3f</td>\n",
       "      <td>225609496909544833</td>\n",
       "      <td>FINISHED</td>\n",
       "      <td>file:///Users/zacklarsen/Documents/Projects/ka...</td>\n",
       "      <td>2023-11-26 18:25:26.852000+00:00</td>\n",
       "      <td>2023-11-26 18:25:29.692000+00:00</td>\n",
       "      <td>14698.810634</td>\n",
       "      <td>200059.717312</td>\n",
       "      <td>0.995314</td>\n",
       "      <td>4.002389e+10</td>\n",
       "      <td>...</td>\n",
       "      <td>True</td>\n",
       "      <td>True</td>\n",
       "      <td>zacklarsen</td>\n",
       "      <td>LOCAL</td>\n",
       "      <td>[{\"run_id\": \"7b1ae6df4f644f8a8cce64821a5e5a3f\"...</td>\n",
       "      <td>15d24a1b20b9b037a292cae3542773fcca10b3b2</td>\n",
       "      <td>sklearn.linear_model._base.LinearRegression</td>\n",
       "      <td>LinearRegression</td>\n",
       "      <td>LinearRegression</td>\n",
       "      <td>/Users/zacklarsen/Documents/Projects/kaggle/ka...</td>\n",
       "    </tr>\n",
       "    <tr>\n",
       "      <th>2</th>\n",
       "      <td>bacf6a56919e4fb389b2959ed2b628c6</td>\n",
       "      <td>225609496909544833</td>\n",
       "      <td>FINISHED</td>\n",
       "      <td>file:///Users/zacklarsen/Documents/Projects/ka...</td>\n",
       "      <td>2023-11-26 18:21:57.392000+00:00</td>\n",
       "      <td>2023-11-26 18:22:16.741000+00:00</td>\n",
       "      <td>67371.451175</td>\n",
       "      <td>181568.206093</td>\n",
       "      <td>0.996140</td>\n",
       "      <td>3.296701e+10</td>\n",
       "      <td>...</td>\n",
       "      <td>None</td>\n",
       "      <td>None</td>\n",
       "      <td>zacklarsen</td>\n",
       "      <td>LOCAL</td>\n",
       "      <td>[{\"run_id\": \"bacf6a56919e4fb389b2959ed2b628c6\"...</td>\n",
       "      <td>15d24a1b20b9b037a292cae3542773fcca10b3b2</td>\n",
       "      <td>sklearn.ensemble._forest.RandomForestRegressor</td>\n",
       "      <td>RandomForestRegressor</td>\n",
       "      <td>RandomForestRegressor</td>\n",
       "      <td>/Users/zacklarsen/Documents/Projects/kaggle/ka...</td>\n",
       "    </tr>\n",
       "    <tr>\n",
       "      <th>3</th>\n",
       "      <td>ef365e54fc454667b1aab0a03f9d0e68</td>\n",
       "      <td>225609496909544833</td>\n",
       "      <td>FINISHED</td>\n",
       "      <td>file:///Users/zacklarsen/Documents/Projects/ka...</td>\n",
       "      <td>2023-11-26 18:21:01.417000+00:00</td>\n",
       "      <td>2023-11-26 18:21:05.874000+00:00</td>\n",
       "      <td>613561.063273</td>\n",
       "      <td>726488.292740</td>\n",
       "      <td>0.938204</td>\n",
       "      <td>5.277852e+11</td>\n",
       "      <td>...</td>\n",
       "      <td>None</td>\n",
       "      <td>None</td>\n",
       "      <td>zacklarsen</td>\n",
       "      <td>LOCAL</td>\n",
       "      <td>[{\"run_id\": \"ef365e54fc454667b1aab0a03f9d0e68\"...</td>\n",
       "      <td>15d24a1b20b9b037a292cae3542773fcca10b3b2</td>\n",
       "      <td>sklearn.ensemble._forest.RandomForestRegressor</td>\n",
       "      <td>RandomForestRegressor</td>\n",
       "      <td>RandomForestRegressor</td>\n",
       "      <td>/Users/zacklarsen/Documents/Projects/kaggle/ka...</td>\n",
       "    </tr>\n",
       "    <tr>\n",
       "      <th>4</th>\n",
       "      <td>f72906a459034a99afa418d239663add</td>\n",
       "      <td>225609496909544833</td>\n",
       "      <td>FINISHED</td>\n",
       "      <td>file:///Users/zacklarsen/Documents/Projects/ka...</td>\n",
       "      <td>2023-11-26 17:55:45.445000+00:00</td>\n",
       "      <td>2023-11-26 17:55:58.606000+00:00</td>\n",
       "      <td>3613.730720</td>\n",
       "      <td>60083.157944</td>\n",
       "      <td>0.999577</td>\n",
       "      <td>3.609986e+09</td>\n",
       "      <td>...</td>\n",
       "      <td>None</td>\n",
       "      <td>None</td>\n",
       "      <td>zacklarsen</td>\n",
       "      <td>LOCAL</td>\n",
       "      <td>[{\"run_id\": \"f72906a459034a99afa418d239663add\"...</td>\n",
       "      <td>15d24a1b20b9b037a292cae3542773fcca10b3b2</td>\n",
       "      <td>sklearn.ensemble._forest.RandomForestRegressor</td>\n",
       "      <td>RandomForestRegressor</td>\n",
       "      <td>rogue-bass-807</td>\n",
       "      <td>/Users/zacklarsen/Documents/Projects/kaggle/ka...</td>\n",
       "    </tr>\n",
       "    <tr>\n",
       "      <th>5</th>\n",
       "      <td>533300a63e5a4a1592a365c65d692d40</td>\n",
       "      <td>225609496909544833</td>\n",
       "      <td>FAILED</td>\n",
       "      <td>file:///Users/zacklarsen/Documents/Projects/ka...</td>\n",
       "      <td>2023-11-26 17:55:09.462000+00:00</td>\n",
       "      <td>2023-11-26 17:55:09.729000+00:00</td>\n",
       "      <td>NaN</td>\n",
       "      <td>NaN</td>\n",
       "      <td>NaN</td>\n",
       "      <td>NaN</td>\n",
       "      <td>...</td>\n",
       "      <td>None</td>\n",
       "      <td>None</td>\n",
       "      <td>zacklarsen</td>\n",
       "      <td>LOCAL</td>\n",
       "      <td>None</td>\n",
       "      <td>15d24a1b20b9b037a292cae3542773fcca10b3b2</td>\n",
       "      <td>None</td>\n",
       "      <td>None</td>\n",
       "      <td>rumbling-koi-79</td>\n",
       "      <td>/Users/zacklarsen/Documents/Projects/kaggle/ka...</td>\n",
       "    </tr>\n",
       "    <tr>\n",
       "      <th>6</th>\n",
       "      <td>68db303a03904c3b9b51ad673728d0c9</td>\n",
       "      <td>225609496909544833</td>\n",
       "      <td>FINISHED</td>\n",
       "      <td>file:///Users/zacklarsen/Documents/Projects/ka...</td>\n",
       "      <td>2023-11-26 17:00:00.461000+00:00</td>\n",
       "      <td>2023-11-26 17:00:03.484000+00:00</td>\n",
       "      <td>14698.810634</td>\n",
       "      <td>200059.717312</td>\n",
       "      <td>0.995314</td>\n",
       "      <td>4.002389e+10</td>\n",
       "      <td>...</td>\n",
       "      <td>True</td>\n",
       "      <td>True</td>\n",
       "      <td>zacklarsen</td>\n",
       "      <td>LOCAL</td>\n",
       "      <td>[{\"run_id\": \"68db303a03904c3b9b51ad673728d0c9\"...</td>\n",
       "      <td>None</td>\n",
       "      <td>sklearn.linear_model._base.LinearRegression</td>\n",
       "      <td>LinearRegression</td>\n",
       "      <td>LR_model</td>\n",
       "      <td>/Users/zacklarsen/mambaforge/envs/kaggle_paris...</td>\n",
       "    </tr>\n",
       "    <tr>\n",
       "      <th>7</th>\n",
       "      <td>048e4e92b30a49528b6708602bcd1018</td>\n",
       "      <td>225609496909544833</td>\n",
       "      <td>FINISHED</td>\n",
       "      <td>file:///Users/zacklarsen/Documents/Projects/ka...</td>\n",
       "      <td>2023-11-26 16:40:29.143000+00:00</td>\n",
       "      <td>2023-11-26 16:40:31.993000+00:00</td>\n",
       "      <td>14698.810634</td>\n",
       "      <td>200059.717312</td>\n",
       "      <td>0.995314</td>\n",
       "      <td>4.002389e+10</td>\n",
       "      <td>...</td>\n",
       "      <td>True</td>\n",
       "      <td>True</td>\n",
       "      <td>zacklarsen</td>\n",
       "      <td>LOCAL</td>\n",
       "      <td>[{\"run_id\": \"048e4e92b30a49528b6708602bcd1018\"...</td>\n",
       "      <td>15d24a1b20b9b037a292cae3542773fcca10b3b2</td>\n",
       "      <td>sklearn.linear_model._base.LinearRegression</td>\n",
       "      <td>LinearRegression</td>\n",
       "      <td>mercurial-grub-967</td>\n",
       "      <td>/Users/zacklarsen/Documents/Projects/kaggle/ka...</td>\n",
       "    </tr>\n",
       "    <tr>\n",
       "      <th>8</th>\n",
       "      <td>a50bcc9e274d472d977c24821a92c954</td>\n",
       "      <td>225609496909544833</td>\n",
       "      <td>FINISHED</td>\n",
       "      <td>file:///Users/zacklarsen/Documents/Projects/ka...</td>\n",
       "      <td>2023-11-26 16:16:33.599000+00:00</td>\n",
       "      <td>2023-11-26 16:16:36.456000+00:00</td>\n",
       "      <td>14698.810634</td>\n",
       "      <td>200059.717312</td>\n",
       "      <td>0.995314</td>\n",
       "      <td>4.002389e+10</td>\n",
       "      <td>...</td>\n",
       "      <td>True</td>\n",
       "      <td>True</td>\n",
       "      <td>zacklarsen</td>\n",
       "      <td>LOCAL</td>\n",
       "      <td>[{\"run_id\": \"a50bcc9e274d472d977c24821a92c954\"...</td>\n",
       "      <td>c5fffaf6e17e1e406d08da020fcba408e38b3929</td>\n",
       "      <td>sklearn.linear_model._base.LinearRegression</td>\n",
       "      <td>LinearRegression</td>\n",
       "      <td>polite-grub-205</td>\n",
       "      <td>/Users/zacklarsen/Documents/Projects/kaggle/ka...</td>\n",
       "    </tr>\n",
       "  </tbody>\n",
       "</table>\n",
       "<p>9 rows × 39 columns</p>\n",
       "</div>"
      ],
      "text/plain": [
       "                             run_id       experiment_id    status  \\\n",
       "0  3b9bb2258bfe4efe856f086e67492cac  225609496909544833  FINISHED   \n",
       "1  7b1ae6df4f644f8a8cce64821a5e5a3f  225609496909544833  FINISHED   \n",
       "2  bacf6a56919e4fb389b2959ed2b628c6  225609496909544833  FINISHED   \n",
       "3  ef365e54fc454667b1aab0a03f9d0e68  225609496909544833  FINISHED   \n",
       "4  f72906a459034a99afa418d239663add  225609496909544833  FINISHED   \n",
       "5  533300a63e5a4a1592a365c65d692d40  225609496909544833    FAILED   \n",
       "6  68db303a03904c3b9b51ad673728d0c9  225609496909544833  FINISHED   \n",
       "7  048e4e92b30a49528b6708602bcd1018  225609496909544833  FINISHED   \n",
       "8  a50bcc9e274d472d977c24821a92c954  225609496909544833  FINISHED   \n",
       "\n",
       "                                        artifact_uri  \\\n",
       "0  file:///Users/zacklarsen/Documents/Projects/ka...   \n",
       "1  file:///Users/zacklarsen/Documents/Projects/ka...   \n",
       "2  file:///Users/zacklarsen/Documents/Projects/ka...   \n",
       "3  file:///Users/zacklarsen/Documents/Projects/ka...   \n",
       "4  file:///Users/zacklarsen/Documents/Projects/ka...   \n",
       "5  file:///Users/zacklarsen/Documents/Projects/ka...   \n",
       "6  file:///Users/zacklarsen/Documents/Projects/ka...   \n",
       "7  file:///Users/zacklarsen/Documents/Projects/ka...   \n",
       "8  file:///Users/zacklarsen/Documents/Projects/ka...   \n",
       "\n",
       "                        start_time                         end_time  \\\n",
       "0 2023-11-26 18:32:51.453000+00:00 2023-11-26 18:33:18.976000+00:00   \n",
       "1 2023-11-26 18:25:26.852000+00:00 2023-11-26 18:25:29.692000+00:00   \n",
       "2 2023-11-26 18:21:57.392000+00:00 2023-11-26 18:22:16.741000+00:00   \n",
       "3 2023-11-26 18:21:01.417000+00:00 2023-11-26 18:21:05.874000+00:00   \n",
       "4 2023-11-26 17:55:45.445000+00:00 2023-11-26 17:55:58.606000+00:00   \n",
       "5 2023-11-26 17:55:09.462000+00:00 2023-11-26 17:55:09.729000+00:00   \n",
       "6 2023-11-26 17:00:00.461000+00:00 2023-11-26 17:00:03.484000+00:00   \n",
       "7 2023-11-26 16:40:29.143000+00:00 2023-11-26 16:40:31.993000+00:00   \n",
       "8 2023-11-26 16:16:33.599000+00:00 2023-11-26 16:16:36.456000+00:00   \n",
       "\n",
       "   metrics.training_mean_absolute_error  \\\n",
       "0                           9188.092805   \n",
       "1                          14698.810634   \n",
       "2                          67371.451175   \n",
       "3                         613561.063273   \n",
       "4                           3613.730720   \n",
       "5                                   NaN   \n",
       "6                          14698.810634   \n",
       "7                          14698.810634   \n",
       "8                          14698.810634   \n",
       "\n",
       "   metrics.training_root_mean_squared_error  metrics.training_score  \\\n",
       "0                              65024.434851                0.999505   \n",
       "1                             200059.717312                0.995314   \n",
       "2                             181568.206093                0.996140   \n",
       "3                             726488.292740                0.938204   \n",
       "4                              60083.157944                0.999577   \n",
       "5                                       NaN                     NaN   \n",
       "6                             200059.717312                0.995314   \n",
       "7                             200059.717312                0.995314   \n",
       "8                             200059.717312                0.995314   \n",
       "\n",
       "   metrics.training_mean_squared_error  ...  params.copy_X  \\\n",
       "0                         4.228177e+09  ...           None   \n",
       "1                         4.002389e+10  ...           True   \n",
       "2                         3.296701e+10  ...           None   \n",
       "3                         5.277852e+11  ...           None   \n",
       "4                         3.609986e+09  ...           None   \n",
       "5                                  NaN  ...           None   \n",
       "6                         4.002389e+10  ...           True   \n",
       "7                         4.002389e+10  ...           True   \n",
       "8                         4.002389e+10  ...           True   \n",
       "\n",
       "  params.fit_intercept tags.mlflow.user tags.mlflow.source.type  \\\n",
       "0                 None       zacklarsen                   LOCAL   \n",
       "1                 True       zacklarsen                   LOCAL   \n",
       "2                 None       zacklarsen                   LOCAL   \n",
       "3                 None       zacklarsen                   LOCAL   \n",
       "4                 None       zacklarsen                   LOCAL   \n",
       "5                 None       zacklarsen                   LOCAL   \n",
       "6                 True       zacklarsen                   LOCAL   \n",
       "7                 True       zacklarsen                   LOCAL   \n",
       "8                 True       zacklarsen                   LOCAL   \n",
       "\n",
       "                       tags.mlflow.log-model.history  \\\n",
       "0  [{\"run_id\": \"3b9bb2258bfe4efe856f086e67492cac\"...   \n",
       "1  [{\"run_id\": \"7b1ae6df4f644f8a8cce64821a5e5a3f\"...   \n",
       "2  [{\"run_id\": \"bacf6a56919e4fb389b2959ed2b628c6\"...   \n",
       "3  [{\"run_id\": \"ef365e54fc454667b1aab0a03f9d0e68\"...   \n",
       "4  [{\"run_id\": \"f72906a459034a99afa418d239663add\"...   \n",
       "5                                               None   \n",
       "6  [{\"run_id\": \"68db303a03904c3b9b51ad673728d0c9\"...   \n",
       "7  [{\"run_id\": \"048e4e92b30a49528b6708602bcd1018\"...   \n",
       "8  [{\"run_id\": \"a50bcc9e274d472d977c24821a92c954\"...   \n",
       "\n",
       "              tags.mlflow.source.git.commit  \\\n",
       "0  15d24a1b20b9b037a292cae3542773fcca10b3b2   \n",
       "1  15d24a1b20b9b037a292cae3542773fcca10b3b2   \n",
       "2  15d24a1b20b9b037a292cae3542773fcca10b3b2   \n",
       "3  15d24a1b20b9b037a292cae3542773fcca10b3b2   \n",
       "4  15d24a1b20b9b037a292cae3542773fcca10b3b2   \n",
       "5  15d24a1b20b9b037a292cae3542773fcca10b3b2   \n",
       "6                                      None   \n",
       "7  15d24a1b20b9b037a292cae3542773fcca10b3b2   \n",
       "8  c5fffaf6e17e1e406d08da020fcba408e38b3929   \n",
       "\n",
       "                             tags.estimator_class    tags.estimator_name  \\\n",
       "0  sklearn.ensemble._forest.RandomForestRegressor  RandomForestRegressor   \n",
       "1     sklearn.linear_model._base.LinearRegression       LinearRegression   \n",
       "2  sklearn.ensemble._forest.RandomForestRegressor  RandomForestRegressor   \n",
       "3  sklearn.ensemble._forest.RandomForestRegressor  RandomForestRegressor   \n",
       "4  sklearn.ensemble._forest.RandomForestRegressor  RandomForestRegressor   \n",
       "5                                            None                   None   \n",
       "6     sklearn.linear_model._base.LinearRegression       LinearRegression   \n",
       "7     sklearn.linear_model._base.LinearRegression       LinearRegression   \n",
       "8     sklearn.linear_model._base.LinearRegression       LinearRegression   \n",
       "\n",
       "     tags.mlflow.runName                            tags.mlflow.source.name  \n",
       "0  RandomForestRegressor  /Users/zacklarsen/Documents/Projects/kaggle/ka...  \n",
       "1       LinearRegression  /Users/zacklarsen/Documents/Projects/kaggle/ka...  \n",
       "2  RandomForestRegressor  /Users/zacklarsen/Documents/Projects/kaggle/ka...  \n",
       "3  RandomForestRegressor  /Users/zacklarsen/Documents/Projects/kaggle/ka...  \n",
       "4         rogue-bass-807  /Users/zacklarsen/Documents/Projects/kaggle/ka...  \n",
       "5        rumbling-koi-79  /Users/zacklarsen/Documents/Projects/kaggle/ka...  \n",
       "6               LR_model  /Users/zacklarsen/mambaforge/envs/kaggle_paris...  \n",
       "7     mercurial-grub-967  /Users/zacklarsen/Documents/Projects/kaggle/ka...  \n",
       "8        polite-grub-205  /Users/zacklarsen/Documents/Projects/kaggle/ka...  \n",
       "\n",
       "[9 rows x 39 columns]"
      ]
     },
     "execution_count": 26,
     "metadata": {},
     "output_type": "execute_result"
    }
   ],
   "source": [
    "df_runs"
   ]
  },
  {
   "cell_type": "code",
   "execution_count": null,
   "metadata": {},
   "outputs": [],
   "source": []
  },
  {
   "cell_type": "code",
   "execution_count": null,
   "metadata": {},
   "outputs": [],
   "source": [
    "metrics_of_interest = ['metrics.accuracy', 'metrics.loss']  # Replace with your metrics names\n",
    "filtered_metrics = df_runs[metrics_of_interest]"
   ]
  },
  {
   "cell_type": "code",
   "execution_count": null,
   "metadata": {},
   "outputs": [],
   "source": []
  },
  {
   "cell_type": "code",
   "execution_count": null,
   "metadata": {},
   "outputs": [],
   "source": []
  },
  {
   "cell_type": "markdown",
   "metadata": {},
   "source": [
    "## Comparing experiment runs"
   ]
  },
  {
   "cell_type": "code",
   "execution_count": 37,
   "metadata": {},
   "outputs": [
    {
     "data": {
      "text/html": [
       "<div><style>\n",
       ".dataframe > thead > tr,\n",
       ".dataframe > tbody > tr {\n",
       "  text-align: right;\n",
       "  white-space: pre-wrap;\n",
       "}\n",
       "</style>\n",
       "<small>shape: (9, 4)</small><table border=\"1\" class=\"dataframe\"><thead><tr><th>run_id</th><th>metrics.training_root_mean_squared_error</th><th>tags.estimator_name</th><th>tags.mlflow.runName</th></tr><tr><td>str</td><td>f64</td><td>str</td><td>str</td></tr></thead><tbody><tr><td>&quot;3b9bb2258bfe4e…</td><td>65024.434851</td><td>&quot;RandomForestRe…</td><td>&quot;RandomForestRe…</td></tr><tr><td>&quot;7b1ae6df4f644f…</td><td>200059.717312</td><td>&quot;LinearRegressi…</td><td>&quot;LinearRegressi…</td></tr><tr><td>&quot;bacf6a56919e4f…</td><td>181568.206093</td><td>&quot;RandomForestRe…</td><td>&quot;RandomForestRe…</td></tr><tr><td>&quot;ef365e54fc4546…</td><td>726488.29274</td><td>&quot;RandomForestRe…</td><td>&quot;RandomForestRe…</td></tr><tr><td>&quot;f72906a459034a…</td><td>60083.157944</td><td>&quot;RandomForestRe…</td><td>&quot;rogue-bass-807…</td></tr><tr><td>&quot;533300a63e5a4a…</td><td>null</td><td>null</td><td>&quot;rumbling-koi-7…</td></tr><tr><td>&quot;68db303a03904c…</td><td>200059.717312</td><td>&quot;LinearRegressi…</td><td>&quot;LR_model&quot;</td></tr><tr><td>&quot;048e4e92b30a49…</td><td>200059.717312</td><td>&quot;LinearRegressi…</td><td>&quot;mercurial-grub…</td></tr><tr><td>&quot;a50bcc9e274d47…</td><td>200059.717312</td><td>&quot;LinearRegressi…</td><td>&quot;polite-grub-20…</td></tr></tbody></table></div>"
      ],
      "text/plain": [
       "shape: (9, 4)\n",
       "┌─────────────────────────┬────────────────────────┬───────────────────────┬───────────────────────┐\n",
       "│ run_id                  ┆ metrics.training_root_ ┆ tags.estimator_name   ┆ tags.mlflow.runName   │\n",
       "│ ---                     ┆ mean_squar…            ┆ ---                   ┆ ---                   │\n",
       "│ str                     ┆ ---                    ┆ str                   ┆ str                   │\n",
       "│                         ┆ f64                    ┆                       ┆                       │\n",
       "╞═════════════════════════╪════════════════════════╪═══════════════════════╪═══════════════════════╡\n",
       "│ 3b9bb2258bfe4efe856f086 ┆ 65024.434851           ┆ RandomForestRegressor ┆ RandomForestRegressor │\n",
       "│ e67492cac               ┆                        ┆                       ┆                       │\n",
       "│ 7b1ae6df4f644f8a8cce648 ┆ 200059.717312          ┆ LinearRegression      ┆ LinearRegression      │\n",
       "│ 21a5e5a3f               ┆                        ┆                       ┆                       │\n",
       "│ bacf6a56919e4fb389b2959 ┆ 181568.206093          ┆ RandomForestRegressor ┆ RandomForestRegressor │\n",
       "│ ed2b628c6               ┆                        ┆                       ┆                       │\n",
       "│ ef365e54fc454667b1aab0a ┆ 726488.29274           ┆ RandomForestRegressor ┆ RandomForestRegressor │\n",
       "│ 03f9d0e68               ┆                        ┆                       ┆                       │\n",
       "│ f72906a459034a99afa418d ┆ 60083.157944           ┆ RandomForestRegressor ┆ rogue-bass-807        │\n",
       "│ 239663add               ┆                        ┆                       ┆                       │\n",
       "│ 533300a63e5a4a1592a365c ┆ null                   ┆ null                  ┆ rumbling-koi-79       │\n",
       "│ 65d692d40               ┆                        ┆                       ┆                       │\n",
       "│ 68db303a03904c3b9b51ad6 ┆ 200059.717312          ┆ LinearRegression      ┆ LR_model              │\n",
       "│ 73728d0c9               ┆                        ┆                       ┆                       │\n",
       "│ 048e4e92b30a49528b67086 ┆ 200059.717312          ┆ LinearRegression      ┆ mercurial-grub-967    │\n",
       "│ 02bcd1018               ┆                        ┆                       ┆                       │\n",
       "│ a50bcc9e274d472d977c248 ┆ 200059.717312          ┆ LinearRegression      ┆ polite-grub-205       │\n",
       "│ 21a92c954               ┆                        ┆                       ┆                       │\n",
       "└─────────────────────────┴────────────────────────┴───────────────────────┴───────────────────────┘"
      ]
     },
     "execution_count": 37,
     "metadata": {},
     "output_type": "execute_result"
    }
   ],
   "source": [
    "(\n",
    "    pl.DataFrame(df_runs)\n",
    "    .select(pl.col([\"run_id\", \"metrics.training_root_mean_squared_error\", \"tags.estimator_name\", \"tags.mlflow.runName\"]))\n",
    ")"
   ]
  },
  {
   "cell_type": "code",
   "execution_count": 46,
   "metadata": {},
   "outputs": [
    {
     "data": {
      "text/html": [
       "\n",
       "<style>\n",
       "  #altair-viz-8e90baf07b18411291cf297ca41cead9.vega-embed {\n",
       "    width: 100%;\n",
       "    display: flex;\n",
       "  }\n",
       "\n",
       "  #altair-viz-8e90baf07b18411291cf297ca41cead9.vega-embed details,\n",
       "  #altair-viz-8e90baf07b18411291cf297ca41cead9.vega-embed details summary {\n",
       "    position: relative;\n",
       "  }\n",
       "</style>\n",
       "<div id=\"altair-viz-8e90baf07b18411291cf297ca41cead9\"></div>\n",
       "<script type=\"text/javascript\">\n",
       "  var VEGA_DEBUG = (typeof VEGA_DEBUG == \"undefined\") ? {} : VEGA_DEBUG;\n",
       "  (function(spec, embedOpt){\n",
       "    let outputDiv = document.currentScript.previousElementSibling;\n",
       "    if (outputDiv.id !== \"altair-viz-8e90baf07b18411291cf297ca41cead9\") {\n",
       "      outputDiv = document.getElementById(\"altair-viz-8e90baf07b18411291cf297ca41cead9\");\n",
       "    }\n",
       "    const paths = {\n",
       "      \"vega\": \"https://cdn.jsdelivr.net/npm/vega@5?noext\",\n",
       "      \"vega-lib\": \"https://cdn.jsdelivr.net/npm/vega-lib?noext\",\n",
       "      \"vega-lite\": \"https://cdn.jsdelivr.net/npm/vega-lite@5.15.1?noext\",\n",
       "      \"vega-embed\": \"https://cdn.jsdelivr.net/npm/vega-embed@6?noext\",\n",
       "    };\n",
       "\n",
       "    function maybeLoadScript(lib, version) {\n",
       "      var key = `${lib.replace(\"-\", \"\")}_version`;\n",
       "      return (VEGA_DEBUG[key] == version) ?\n",
       "        Promise.resolve(paths[lib]) :\n",
       "        new Promise(function(resolve, reject) {\n",
       "          var s = document.createElement('script');\n",
       "          document.getElementsByTagName(\"head\")[0].appendChild(s);\n",
       "          s.async = true;\n",
       "          s.onload = () => {\n",
       "            VEGA_DEBUG[key] = version;\n",
       "            return resolve(paths[lib]);\n",
       "          };\n",
       "          s.onerror = () => reject(`Error loading script: ${paths[lib]}`);\n",
       "          s.src = paths[lib];\n",
       "        });\n",
       "    }\n",
       "\n",
       "    function showError(err) {\n",
       "      outputDiv.innerHTML = `<div class=\"error\" style=\"color:red;\">${err}</div>`;\n",
       "      throw err;\n",
       "    }\n",
       "\n",
       "    function displayChart(vegaEmbed) {\n",
       "      vegaEmbed(outputDiv, spec, embedOpt)\n",
       "        .catch(err => showError(`Javascript Error: ${err.message}<br>This usually means there's a typo in your chart specification. See the javascript console for the full traceback.`));\n",
       "    }\n",
       "\n",
       "    if(typeof define === \"function\" && define.amd) {\n",
       "      requirejs.config({paths});\n",
       "      require([\"vega-embed\"], displayChart, err => showError(`Error loading script: ${err.message}`));\n",
       "    } else {\n",
       "      maybeLoadScript(\"vega\", \"5\")\n",
       "        .then(() => maybeLoadScript(\"vega-lite\", \"5.15.1\"))\n",
       "        .then(() => maybeLoadScript(\"vega-embed\", \"6\"))\n",
       "        .catch(showError)\n",
       "        .then(() => displayChart(vegaEmbed));\n",
       "    }\n",
       "  })({\"config\": {\"view\": {\"continuousWidth\": 300, \"continuousHeight\": 300}}, \"data\": {\"name\": \"data-d6dca0dda5c0347d44fcffd0e15619df\"}, \"mark\": {\"type\": \"bar\"}, \"encoding\": {\"color\": {\"field\": \"tags.estimator_name\", \"type\": \"nominal\"}, \"x\": {\"field\": \"tags.mlflow.runName\", \"type\": \"nominal\"}, \"y\": {\"field\": \"metrics.training_root_mean_squared_error\", \"type\": \"quantitative\"}}, \"$schema\": \"https://vega.github.io/schema/vega-lite/v5.15.1.json\", \"datasets\": {\"data-d6dca0dda5c0347d44fcffd0e15619df\": [{\"run_id\": \"3b9bb2258bfe4efe856f086e67492cac\", \"experiment_id\": \"225609496909544833\", \"status\": \"FINISHED\", \"artifact_uri\": \"file:///Users/zacklarsen/Documents/Projects/kaggle/kaggle-paris-housing-prices/mlruns/225609496909544833/3b9bb2258bfe4efe856f086e67492cac/artifacts\", \"start_time\": \"2023-11-26T18:32:51.453000000\", \"end_time\": \"2023-11-26T18:33:18.976000000\", \"metrics.training_mean_absolute_error\": 9188.092804984604, \"metrics.training_root_mean_squared_error\": 65024.43485146629, \"metrics.training_score\": 0.999504942052103, \"metrics.training_mean_squared_error\": 4228177127.7525845, \"metrics.training_r2_score\": 0.999504942052103, \"params.ccp_alpha\": \"0.0\", \"params.min_samples_split\": \"2\", \"params.min_weight_fraction_leaf\": \"0.0\", \"params.bootstrap\": \"True\", \"params.max_depth\": \"8\", \"params.min_samples_leaf\": \"1\", \"params.criterion\": \"squared_error\", \"params.max_samples\": \"None\", \"params.n_jobs\": \"None\", \"params.verbose\": \"0\", \"params.n_estimators\": \"400\", \"params.max_features\": \"1.0\", \"params.warm_start\": \"False\", \"params.min_impurity_decrease\": \"0.0\", \"params.max_leaf_nodes\": \"None\", \"params.random_state\": \"0\", \"params.oob_score\": \"False\", \"params.positive\": null, \"params.copy_X\": null, \"params.fit_intercept\": null, \"tags.mlflow.user\": \"zacklarsen\", \"tags.mlflow.source.type\": \"LOCAL\", \"tags.mlflow.log-model.history\": \"[{\\\"run_id\\\": \\\"3b9bb2258bfe4efe856f086e67492cac\\\", \\\"artifact_path\\\": \\\"model\\\", \\\"utc_time_created\\\": \\\"2023-11-26 18:33:16.216213\\\", \\\"flavors\\\": {\\\"python_function\\\": {\\\"model_path\\\": \\\"model.pkl\\\", \\\"predict_fn\\\": \\\"predict\\\", \\\"loader_module\\\": \\\"mlflow.sklearn\\\", \\\"python_version\\\": \\\"3.10.13\\\", \\\"env\\\": {\\\"conda\\\": \\\"conda.yaml\\\", \\\"virtualenv\\\": \\\"python_env.yaml\\\"}}, \\\"sklearn\\\": {\\\"pickled_model\\\": \\\"model.pkl\\\", \\\"sklearn_version\\\": \\\"1.2.2\\\", \\\"serialization_format\\\": \\\"cloudpickle\\\", \\\"code\\\": null}}, \\\"model_uuid\\\": \\\"9610fc9790514cccab0b854836b3a38c\\\", \\\"mlflow_version\\\": \\\"2.6.0\\\", \\\"signature\\\": {\\\"inputs\\\": \\\"[{\\\\\\\"type\\\\\\\": \\\\\\\"long\\\\\\\", \\\\\\\"name\\\\\\\": \\\\\\\"age\\\\\\\"}, {\\\\\\\"type\\\\\\\": \\\\\\\"long\\\\\\\", \\\\\\\"name\\\\\\\": \\\\\\\"attic\\\\\\\"}, {\\\\\\\"type\\\\\\\": \\\\\\\"double\\\\\\\", \\\\\\\"name\\\\\\\": \\\\\\\"attic_z_score_abs\\\\\\\"}, {\\\\\\\"type\\\\\\\": \\\\\\\"long\\\\\\\", \\\\\\\"name\\\\\\\": \\\\\\\"basement\\\\\\\"}, {\\\\\\\"type\\\\\\\": \\\\\\\"double\\\\\\\", \\\\\\\"name\\\\\\\": \\\\\\\"basement_z_score_abs\\\\\\\"}, {\\\\\\\"type\\\\\\\": \\\\\\\"long\\\\\\\", \\\\\\\"name\\\\\\\": \\\\\\\"cityCode\\\\\\\"}, {\\\\\\\"type\\\\\\\": \\\\\\\"long\\\\\\\", \\\\\\\"name\\\\\\\": \\\\\\\"cityPartRange\\\\\\\"}, {\\\\\\\"type\\\\\\\": \\\\\\\"long\\\\\\\", \\\\\\\"name\\\\\\\": \\\\\\\"floors\\\\\\\"}, {\\\\\\\"type\\\\\\\": \\\\\\\"double\\\\\\\", \\\\\\\"name\\\\\\\": \\\\\\\"floors_z_score_abs\\\\\\\"}, {\\\\\\\"type\\\\\\\": \\\\\\\"long\\\\\\\", \\\\\\\"name\\\\\\\": \\\\\\\"garage\\\\\\\"}, {\\\\\\\"type\\\\\\\": \\\\\\\"double\\\\\\\", \\\\\\\"name\\\\\\\": \\\\\\\"garage_z_score_abs\\\\\\\"}, {\\\\\\\"type\\\\\\\": \\\\\\\"long\\\\\\\", \\\\\\\"name\\\\\\\": \\\\\\\"hasGuestRoom\\\\\\\"}, {\\\\\\\"type\\\\\\\": \\\\\\\"long\\\\\\\", \\\\\\\"name\\\\\\\": \\\\\\\"hasPool\\\\\\\"}, {\\\\\\\"type\\\\\\\": \\\\\\\"long\\\\\\\", \\\\\\\"name\\\\\\\": \\\\\\\"hasStorageRoom\\\\\\\"}, {\\\\\\\"type\\\\\\\": \\\\\\\"long\\\\\\\", \\\\\\\"name\\\\\\\": \\\\\\\"hasStormProtector\\\\\\\"}, {\\\\\\\"type\\\\\\\": \\\\\\\"long\\\\\\\", \\\\\\\"name\\\\\\\": \\\\\\\"hasYard\\\\\\\"}, {\\\\\\\"type\\\\\\\": \\\\\\\"long\\\\\\\", \\\\\\\"name\\\\\\\": \\\\\\\"isNewBuilt\\\\\\\"}, {\\\\\\\"type\\\\\\\": \\\\\\\"long\\\\\\\", \\\\\\\"name\\\\\\\": \\\\\\\"numPrevOwners\\\\\\\"}, {\\\\\\\"type\\\\\\\": \\\\\\\"long\\\\\\\", \\\\\\\"name\\\\\\\": \\\\\\\"numberOfRooms\\\\\\\"}, {\\\\\\\"type\\\\\\\": \\\\\\\"long\\\\\\\", \\\\\\\"name\\\\\\\": \\\\\\\"squareMeters\\\\\\\"}, {\\\\\\\"type\\\\\\\": \\\\\\\"double\\\\\\\", \\\\\\\"name\\\\\\\": \\\\\\\"squareMeters_z_score_abs\\\\\\\"}]\\\", \\\"outputs\\\": \\\"[{\\\\\\\"type\\\\\\\": \\\\\\\"tensor\\\\\\\", \\\\\\\"tensor-spec\\\\\\\": {\\\\\\\"dtype\\\\\\\": \\\\\\\"float64\\\\\\\", \\\\\\\"shape\\\\\\\": [-1]}}]\\\", \\\"params\\\": null}}, {\\\"run_id\\\": \\\"3b9bb2258bfe4efe856f086e67492cac\\\", \\\"artifact_path\\\": \\\"model\\\", \\\"utc_time_created\\\": \\\"2023-11-26 18:33:17.839738\\\", \\\"flavors\\\": {\\\"python_function\\\": {\\\"model_path\\\": \\\"model.pkl\\\", \\\"predict_fn\\\": \\\"predict\\\", \\\"loader_module\\\": \\\"mlflow.sklearn\\\", \\\"python_version\\\": \\\"3.10.13\\\", \\\"env\\\": {\\\"conda\\\": \\\"conda.yaml\\\", \\\"virtualenv\\\": \\\"python_env.yaml\\\"}}, \\\"sklearn\\\": {\\\"pickled_model\\\": \\\"model.pkl\\\", \\\"sklearn_version\\\": \\\"1.2.2\\\", \\\"serialization_format\\\": \\\"cloudpickle\\\", \\\"code\\\": null}}, \\\"model_uuid\\\": \\\"a2bcc8f935dc46d7ac133405d8ec5ae6\\\", \\\"mlflow_version\\\": \\\"2.6.0\\\"}]\", \"tags.mlflow.source.git.commit\": \"15d24a1b20b9b037a292cae3542773fcca10b3b2\", \"tags.estimator_class\": \"sklearn.ensemble._forest.RandomForestRegressor\", \"tags.estimator_name\": \"RandomForestRegressor\", \"tags.mlflow.runName\": \"RandomForestRegressor\", \"tags.mlflow.source.name\": \"/Users/zacklarsen/Documents/Projects/kaggle/kaggle-paris-housing-prices/src/run_flow.py\"}, {\"run_id\": \"7b1ae6df4f644f8a8cce64821a5e5a3f\", \"experiment_id\": \"225609496909544833\", \"status\": \"FINISHED\", \"artifact_uri\": \"file:///Users/zacklarsen/Documents/Projects/kaggle/kaggle-paris-housing-prices/mlruns/225609496909544833/7b1ae6df4f644f8a8cce64821a5e5a3f/artifacts\", \"start_time\": \"2023-11-26T18:25:26.852000000\", \"end_time\": \"2023-11-26T18:25:29.692000000\", \"metrics.training_mean_absolute_error\": 14698.810633630523, \"metrics.training_root_mean_squared_error\": 200059.71731214787, \"metrics.training_score\": 0.9953137854695634, \"metrics.training_mean_squared_error\": 40023890491.01652, \"metrics.training_r2_score\": 0.9953137854695634, \"params.ccp_alpha\": null, \"params.min_samples_split\": null, \"params.min_weight_fraction_leaf\": null, \"params.bootstrap\": null, \"params.max_depth\": null, \"params.min_samples_leaf\": null, \"params.criterion\": null, \"params.max_samples\": null, \"params.n_jobs\": \"None\", \"params.verbose\": null, \"params.n_estimators\": null, \"params.max_features\": null, \"params.warm_start\": null, \"params.min_impurity_decrease\": null, \"params.max_leaf_nodes\": null, \"params.random_state\": null, \"params.oob_score\": null, \"params.positive\": \"False\", \"params.copy_X\": \"True\", \"params.fit_intercept\": \"True\", \"tags.mlflow.user\": \"zacklarsen\", \"tags.mlflow.source.type\": \"LOCAL\", \"tags.mlflow.log-model.history\": \"[{\\\"run_id\\\": \\\"7b1ae6df4f644f8a8cce64821a5e5a3f\\\", \\\"artifact_path\\\": \\\"model\\\", \\\"utc_time_created\\\": \\\"2023-11-26 18:25:27.223328\\\", \\\"flavors\\\": {\\\"python_function\\\": {\\\"model_path\\\": \\\"model.pkl\\\", \\\"predict_fn\\\": \\\"predict\\\", \\\"loader_module\\\": \\\"mlflow.sklearn\\\", \\\"python_version\\\": \\\"3.10.13\\\", \\\"env\\\": {\\\"conda\\\": \\\"conda.yaml\\\", \\\"virtualenv\\\": \\\"python_env.yaml\\\"}}, \\\"sklearn\\\": {\\\"pickled_model\\\": \\\"model.pkl\\\", \\\"sklearn_version\\\": \\\"1.2.2\\\", \\\"serialization_format\\\": \\\"cloudpickle\\\", \\\"code\\\": null}}, \\\"model_uuid\\\": \\\"eee51e4b57164ce99a994f530bd454d6\\\", \\\"mlflow_version\\\": \\\"2.6.0\\\", \\\"signature\\\": {\\\"inputs\\\": \\\"[{\\\\\\\"type\\\\\\\": \\\\\\\"long\\\\\\\", \\\\\\\"name\\\\\\\": \\\\\\\"age\\\\\\\"}, {\\\\\\\"type\\\\\\\": \\\\\\\"long\\\\\\\", \\\\\\\"name\\\\\\\": \\\\\\\"attic\\\\\\\"}, {\\\\\\\"type\\\\\\\": \\\\\\\"double\\\\\\\", \\\\\\\"name\\\\\\\": \\\\\\\"attic_z_score_abs\\\\\\\"}, {\\\\\\\"type\\\\\\\": \\\\\\\"long\\\\\\\", \\\\\\\"name\\\\\\\": \\\\\\\"basement\\\\\\\"}, {\\\\\\\"type\\\\\\\": \\\\\\\"double\\\\\\\", \\\\\\\"name\\\\\\\": \\\\\\\"basement_z_score_abs\\\\\\\"}, {\\\\\\\"type\\\\\\\": \\\\\\\"long\\\\\\\", \\\\\\\"name\\\\\\\": \\\\\\\"cityCode\\\\\\\"}, {\\\\\\\"type\\\\\\\": \\\\\\\"long\\\\\\\", \\\\\\\"name\\\\\\\": \\\\\\\"cityPartRange\\\\\\\"}, {\\\\\\\"type\\\\\\\": \\\\\\\"long\\\\\\\", \\\\\\\"name\\\\\\\": \\\\\\\"floors\\\\\\\"}, {\\\\\\\"type\\\\\\\": \\\\\\\"double\\\\\\\", \\\\\\\"name\\\\\\\": \\\\\\\"floors_z_score_abs\\\\\\\"}, {\\\\\\\"type\\\\\\\": \\\\\\\"long\\\\\\\", \\\\\\\"name\\\\\\\": \\\\\\\"garage\\\\\\\"}, {\\\\\\\"type\\\\\\\": \\\\\\\"double\\\\\\\", \\\\\\\"name\\\\\\\": \\\\\\\"garage_z_score_abs\\\\\\\"}, {\\\\\\\"type\\\\\\\": \\\\\\\"long\\\\\\\", \\\\\\\"name\\\\\\\": \\\\\\\"hasGuestRoom\\\\\\\"}, {\\\\\\\"type\\\\\\\": \\\\\\\"long\\\\\\\", \\\\\\\"name\\\\\\\": \\\\\\\"hasPool\\\\\\\"}, {\\\\\\\"type\\\\\\\": \\\\\\\"long\\\\\\\", \\\\\\\"name\\\\\\\": \\\\\\\"hasStorageRoom\\\\\\\"}, {\\\\\\\"type\\\\\\\": \\\\\\\"long\\\\\\\", \\\\\\\"name\\\\\\\": \\\\\\\"hasStormProtector\\\\\\\"}, {\\\\\\\"type\\\\\\\": \\\\\\\"long\\\\\\\", \\\\\\\"name\\\\\\\": \\\\\\\"hasYard\\\\\\\"}, {\\\\\\\"type\\\\\\\": \\\\\\\"long\\\\\\\", \\\\\\\"name\\\\\\\": \\\\\\\"isNewBuilt\\\\\\\"}, {\\\\\\\"type\\\\\\\": \\\\\\\"long\\\\\\\", \\\\\\\"name\\\\\\\": \\\\\\\"numPrevOwners\\\\\\\"}, {\\\\\\\"type\\\\\\\": \\\\\\\"long\\\\\\\", \\\\\\\"name\\\\\\\": \\\\\\\"numberOfRooms\\\\\\\"}, {\\\\\\\"type\\\\\\\": \\\\\\\"long\\\\\\\", \\\\\\\"name\\\\\\\": \\\\\\\"squareMeters\\\\\\\"}, {\\\\\\\"type\\\\\\\": \\\\\\\"double\\\\\\\", \\\\\\\"name\\\\\\\": \\\\\\\"squareMeters_z_score_abs\\\\\\\"}]\\\", \\\"outputs\\\": \\\"[{\\\\\\\"type\\\\\\\": \\\\\\\"tensor\\\\\\\", \\\\\\\"tensor-spec\\\\\\\": {\\\\\\\"dtype\\\\\\\": \\\\\\\"float64\\\\\\\", \\\\\\\"shape\\\\\\\": [-1]}}]\\\", \\\"params\\\": null}}, {\\\"run_id\\\": \\\"7b1ae6df4f644f8a8cce64821a5e5a3f\\\", \\\"artifact_path\\\": \\\"model\\\", \\\"utc_time_created\\\": \\\"2023-11-26 18:25:28.621532\\\", \\\"flavors\\\": {\\\"python_function\\\": {\\\"model_path\\\": \\\"model.pkl\\\", \\\"predict_fn\\\": \\\"predict\\\", \\\"loader_module\\\": \\\"mlflow.sklearn\\\", \\\"python_version\\\": \\\"3.10.13\\\", \\\"env\\\": {\\\"conda\\\": \\\"conda.yaml\\\", \\\"virtualenv\\\": \\\"python_env.yaml\\\"}}, \\\"sklearn\\\": {\\\"pickled_model\\\": \\\"model.pkl\\\", \\\"sklearn_version\\\": \\\"1.2.2\\\", \\\"serialization_format\\\": \\\"cloudpickle\\\", \\\"code\\\": null}}, \\\"model_uuid\\\": \\\"6e5b441fdd6c49bfafc53c342717d3c3\\\", \\\"mlflow_version\\\": \\\"2.6.0\\\"}]\", \"tags.mlflow.source.git.commit\": \"15d24a1b20b9b037a292cae3542773fcca10b3b2\", \"tags.estimator_class\": \"sklearn.linear_model._base.LinearRegression\", \"tags.estimator_name\": \"LinearRegression\", \"tags.mlflow.runName\": \"LinearRegression\", \"tags.mlflow.source.name\": \"/Users/zacklarsen/Documents/Projects/kaggle/kaggle-paris-housing-prices/src/run_flow.py\"}, {\"run_id\": \"bacf6a56919e4fb389b2959ed2b628c6\", \"experiment_id\": \"225609496909544833\", \"status\": \"FINISHED\", \"artifact_uri\": \"file:///Users/zacklarsen/Documents/Projects/kaggle/kaggle-paris-housing-prices/mlruns/225609496909544833/bacf6a56919e4fb389b2959ed2b628c6/artifacts\", \"start_time\": \"2023-11-26T18:21:57.392000000\", \"end_time\": \"2023-11-26T18:22:16.741000000\", \"metrics.training_mean_absolute_error\": 67371.45117461751, \"metrics.training_root_mean_squared_error\": 181568.20609344367, \"metrics.training_score\": 0.9961400429687182, \"metrics.training_mean_squared_error\": 32967013463.99124, \"metrics.training_r2_score\": 0.9961400429687182, \"params.ccp_alpha\": \"0.0\", \"params.min_samples_split\": \"2\", \"params.min_weight_fraction_leaf\": \"0.0\", \"params.bootstrap\": \"True\", \"params.max_depth\": \"5\", \"params.min_samples_leaf\": \"1\", \"params.criterion\": \"squared_error\", \"params.max_samples\": \"None\", \"params.n_jobs\": \"None\", \"params.verbose\": \"0\", \"params.n_estimators\": \"400\", \"params.max_features\": \"1.0\", \"params.warm_start\": \"False\", \"params.min_impurity_decrease\": \"0.0\", \"params.max_leaf_nodes\": \"None\", \"params.random_state\": \"0\", \"params.oob_score\": \"False\", \"params.positive\": null, \"params.copy_X\": null, \"params.fit_intercept\": null, \"tags.mlflow.user\": \"zacklarsen\", \"tags.mlflow.source.type\": \"LOCAL\", \"tags.mlflow.log-model.history\": \"[{\\\"run_id\\\": \\\"bacf6a56919e4fb389b2959ed2b628c6\\\", \\\"artifact_path\\\": \\\"model\\\", \\\"utc_time_created\\\": \\\"2023-11-26 18:22:13.861698\\\", \\\"flavors\\\": {\\\"python_function\\\": {\\\"model_path\\\": \\\"model.pkl\\\", \\\"predict_fn\\\": \\\"predict\\\", \\\"loader_module\\\": \\\"mlflow.sklearn\\\", \\\"python_version\\\": \\\"3.10.13\\\", \\\"env\\\": {\\\"conda\\\": \\\"conda.yaml\\\", \\\"virtualenv\\\": \\\"python_env.yaml\\\"}}, \\\"sklearn\\\": {\\\"pickled_model\\\": \\\"model.pkl\\\", \\\"sklearn_version\\\": \\\"1.2.2\\\", \\\"serialization_format\\\": \\\"cloudpickle\\\", \\\"code\\\": null}}, \\\"model_uuid\\\": \\\"c24dd1cffe224a599e2bfd4e8eac2d3f\\\", \\\"mlflow_version\\\": \\\"2.6.0\\\", \\\"signature\\\": {\\\"inputs\\\": \\\"[{\\\\\\\"type\\\\\\\": \\\\\\\"long\\\\\\\", \\\\\\\"name\\\\\\\": \\\\\\\"age\\\\\\\"}, {\\\\\\\"type\\\\\\\": \\\\\\\"long\\\\\\\", \\\\\\\"name\\\\\\\": \\\\\\\"attic\\\\\\\"}, {\\\\\\\"type\\\\\\\": \\\\\\\"double\\\\\\\", \\\\\\\"name\\\\\\\": \\\\\\\"attic_z_score_abs\\\\\\\"}, {\\\\\\\"type\\\\\\\": \\\\\\\"long\\\\\\\", \\\\\\\"name\\\\\\\": \\\\\\\"basement\\\\\\\"}, {\\\\\\\"type\\\\\\\": \\\\\\\"double\\\\\\\", \\\\\\\"name\\\\\\\": \\\\\\\"basement_z_score_abs\\\\\\\"}, {\\\\\\\"type\\\\\\\": \\\\\\\"long\\\\\\\", \\\\\\\"name\\\\\\\": \\\\\\\"cityCode\\\\\\\"}, {\\\\\\\"type\\\\\\\": \\\\\\\"long\\\\\\\", \\\\\\\"name\\\\\\\": \\\\\\\"cityPartRange\\\\\\\"}, {\\\\\\\"type\\\\\\\": \\\\\\\"long\\\\\\\", \\\\\\\"name\\\\\\\": \\\\\\\"floors\\\\\\\"}, {\\\\\\\"type\\\\\\\": \\\\\\\"double\\\\\\\", \\\\\\\"name\\\\\\\": \\\\\\\"floors_z_score_abs\\\\\\\"}, {\\\\\\\"type\\\\\\\": \\\\\\\"long\\\\\\\", \\\\\\\"name\\\\\\\": \\\\\\\"garage\\\\\\\"}, {\\\\\\\"type\\\\\\\": \\\\\\\"double\\\\\\\", \\\\\\\"name\\\\\\\": \\\\\\\"garage_z_score_abs\\\\\\\"}, {\\\\\\\"type\\\\\\\": \\\\\\\"long\\\\\\\", \\\\\\\"name\\\\\\\": \\\\\\\"hasGuestRoom\\\\\\\"}, {\\\\\\\"type\\\\\\\": \\\\\\\"long\\\\\\\", \\\\\\\"name\\\\\\\": \\\\\\\"hasPool\\\\\\\"}, {\\\\\\\"type\\\\\\\": \\\\\\\"long\\\\\\\", \\\\\\\"name\\\\\\\": \\\\\\\"hasStorageRoom\\\\\\\"}, {\\\\\\\"type\\\\\\\": \\\\\\\"long\\\\\\\", \\\\\\\"name\\\\\\\": \\\\\\\"hasStormProtector\\\\\\\"}, {\\\\\\\"type\\\\\\\": \\\\\\\"long\\\\\\\", \\\\\\\"name\\\\\\\": \\\\\\\"hasYard\\\\\\\"}, {\\\\\\\"type\\\\\\\": \\\\\\\"long\\\\\\\", \\\\\\\"name\\\\\\\": \\\\\\\"isNewBuilt\\\\\\\"}, {\\\\\\\"type\\\\\\\": \\\\\\\"long\\\\\\\", \\\\\\\"name\\\\\\\": \\\\\\\"numPrevOwners\\\\\\\"}, {\\\\\\\"type\\\\\\\": \\\\\\\"long\\\\\\\", \\\\\\\"name\\\\\\\": \\\\\\\"numberOfRooms\\\\\\\"}, {\\\\\\\"type\\\\\\\": \\\\\\\"long\\\\\\\", \\\\\\\"name\\\\\\\": \\\\\\\"squareMeters\\\\\\\"}, {\\\\\\\"type\\\\\\\": \\\\\\\"double\\\\\\\", \\\\\\\"name\\\\\\\": \\\\\\\"squareMeters_z_score_abs\\\\\\\"}]\\\", \\\"outputs\\\": \\\"[{\\\\\\\"type\\\\\\\": \\\\\\\"tensor\\\\\\\", \\\\\\\"tensor-spec\\\\\\\": {\\\\\\\"dtype\\\\\\\": \\\\\\\"float64\\\\\\\", \\\\\\\"shape\\\\\\\": [-1]}}]\\\", \\\"params\\\": null}}, {\\\"run_id\\\": \\\"bacf6a56919e4fb389b2959ed2b628c6\\\", \\\"artifact_path\\\": \\\"model\\\", \\\"utc_time_created\\\": \\\"2023-11-26 18:22:15.683207\\\", \\\"flavors\\\": {\\\"python_function\\\": {\\\"model_path\\\": \\\"model.pkl\\\", \\\"predict_fn\\\": \\\"predict\\\", \\\"loader_module\\\": \\\"mlflow.sklearn\\\", \\\"python_version\\\": \\\"3.10.13\\\", \\\"env\\\": {\\\"conda\\\": \\\"conda.yaml\\\", \\\"virtualenv\\\": \\\"python_env.yaml\\\"}}, \\\"sklearn\\\": {\\\"pickled_model\\\": \\\"model.pkl\\\", \\\"sklearn_version\\\": \\\"1.2.2\\\", \\\"serialization_format\\\": \\\"cloudpickle\\\", \\\"code\\\": null}}, \\\"model_uuid\\\": \\\"40e90c2a7f32431c9aa5b601ebb87e41\\\", \\\"mlflow_version\\\": \\\"2.6.0\\\"}]\", \"tags.mlflow.source.git.commit\": \"15d24a1b20b9b037a292cae3542773fcca10b3b2\", \"tags.estimator_class\": \"sklearn.ensemble._forest.RandomForestRegressor\", \"tags.estimator_name\": \"RandomForestRegressor\", \"tags.mlflow.runName\": \"RandomForestRegressor\", \"tags.mlflow.source.name\": \"/Users/zacklarsen/Documents/Projects/kaggle/kaggle-paris-housing-prices/src/run_flow.py\"}, {\"run_id\": \"ef365e54fc454667b1aab0a03f9d0e68\", \"experiment_id\": \"225609496909544833\", \"status\": \"FINISHED\", \"artifact_uri\": \"file:///Users/zacklarsen/Documents/Projects/kaggle/kaggle-paris-housing-prices/mlruns/225609496909544833/ef365e54fc454667b1aab0a03f9d0e68/artifacts\", \"start_time\": \"2023-11-26T18:21:01.417000000\", \"end_time\": \"2023-11-26T18:21:05.874000000\", \"metrics.training_mean_absolute_error\": 613561.0632734478, \"metrics.training_root_mean_squared_error\": 726488.2927397502, \"metrics.training_score\": 0.9382040369415517, \"metrics.training_mean_squared_error\": 527785239487.91705, \"metrics.training_r2_score\": 0.9382040369415517, \"params.ccp_alpha\": \"0.0\", \"params.min_samples_split\": \"2\", \"params.min_weight_fraction_leaf\": \"0.0\", \"params.bootstrap\": \"True\", \"params.max_depth\": \"2\", \"params.min_samples_leaf\": \"1\", \"params.criterion\": \"squared_error\", \"params.max_samples\": \"None\", \"params.n_jobs\": \"None\", \"params.verbose\": \"0\", \"params.n_estimators\": \"100\", \"params.max_features\": \"1.0\", \"params.warm_start\": \"False\", \"params.min_impurity_decrease\": \"0.0\", \"params.max_leaf_nodes\": \"None\", \"params.random_state\": \"0\", \"params.oob_score\": \"False\", \"params.positive\": null, \"params.copy_X\": null, \"params.fit_intercept\": null, \"tags.mlflow.user\": \"zacklarsen\", \"tags.mlflow.source.type\": \"LOCAL\", \"tags.mlflow.log-model.history\": \"[{\\\"run_id\\\": \\\"ef365e54fc454667b1aab0a03f9d0e68\\\", \\\"artifact_path\\\": \\\"model\\\", \\\"utc_time_created\\\": \\\"2023-11-26 18:21:03.437584\\\", \\\"flavors\\\": {\\\"python_function\\\": {\\\"model_path\\\": \\\"model.pkl\\\", \\\"predict_fn\\\": \\\"predict\\\", \\\"loader_module\\\": \\\"mlflow.sklearn\\\", \\\"python_version\\\": \\\"3.10.13\\\", \\\"env\\\": {\\\"conda\\\": \\\"conda.yaml\\\", \\\"virtualenv\\\": \\\"python_env.yaml\\\"}}, \\\"sklearn\\\": {\\\"pickled_model\\\": \\\"model.pkl\\\", \\\"sklearn_version\\\": \\\"1.2.2\\\", \\\"serialization_format\\\": \\\"cloudpickle\\\", \\\"code\\\": null}}, \\\"model_uuid\\\": \\\"ca5851f0a0ab4b939bd369b48a9215cf\\\", \\\"mlflow_version\\\": \\\"2.6.0\\\", \\\"signature\\\": {\\\"inputs\\\": \\\"[{\\\\\\\"type\\\\\\\": \\\\\\\"long\\\\\\\", \\\\\\\"name\\\\\\\": \\\\\\\"age\\\\\\\"}, {\\\\\\\"type\\\\\\\": \\\\\\\"long\\\\\\\", \\\\\\\"name\\\\\\\": \\\\\\\"attic\\\\\\\"}, {\\\\\\\"type\\\\\\\": \\\\\\\"double\\\\\\\", \\\\\\\"name\\\\\\\": \\\\\\\"attic_z_score_abs\\\\\\\"}, {\\\\\\\"type\\\\\\\": \\\\\\\"long\\\\\\\", \\\\\\\"name\\\\\\\": \\\\\\\"basement\\\\\\\"}, {\\\\\\\"type\\\\\\\": \\\\\\\"double\\\\\\\", \\\\\\\"name\\\\\\\": \\\\\\\"basement_z_score_abs\\\\\\\"}, {\\\\\\\"type\\\\\\\": \\\\\\\"long\\\\\\\", \\\\\\\"name\\\\\\\": \\\\\\\"cityCode\\\\\\\"}, {\\\\\\\"type\\\\\\\": \\\\\\\"long\\\\\\\", \\\\\\\"name\\\\\\\": \\\\\\\"cityPartRange\\\\\\\"}, {\\\\\\\"type\\\\\\\": \\\\\\\"long\\\\\\\", \\\\\\\"name\\\\\\\": \\\\\\\"floors\\\\\\\"}, {\\\\\\\"type\\\\\\\": \\\\\\\"double\\\\\\\", \\\\\\\"name\\\\\\\": \\\\\\\"floors_z_score_abs\\\\\\\"}, {\\\\\\\"type\\\\\\\": \\\\\\\"long\\\\\\\", \\\\\\\"name\\\\\\\": \\\\\\\"garage\\\\\\\"}, {\\\\\\\"type\\\\\\\": \\\\\\\"double\\\\\\\", \\\\\\\"name\\\\\\\": \\\\\\\"garage_z_score_abs\\\\\\\"}, {\\\\\\\"type\\\\\\\": \\\\\\\"long\\\\\\\", \\\\\\\"name\\\\\\\": \\\\\\\"hasGuestRoom\\\\\\\"}, {\\\\\\\"type\\\\\\\": \\\\\\\"long\\\\\\\", \\\\\\\"name\\\\\\\": \\\\\\\"hasPool\\\\\\\"}, {\\\\\\\"type\\\\\\\": \\\\\\\"long\\\\\\\", \\\\\\\"name\\\\\\\": \\\\\\\"hasStorageRoom\\\\\\\"}, {\\\\\\\"type\\\\\\\": \\\\\\\"long\\\\\\\", \\\\\\\"name\\\\\\\": \\\\\\\"hasStormProtector\\\\\\\"}, {\\\\\\\"type\\\\\\\": \\\\\\\"long\\\\\\\", \\\\\\\"name\\\\\\\": \\\\\\\"hasYard\\\\\\\"}, {\\\\\\\"type\\\\\\\": \\\\\\\"long\\\\\\\", \\\\\\\"name\\\\\\\": \\\\\\\"isNewBuilt\\\\\\\"}, {\\\\\\\"type\\\\\\\": \\\\\\\"long\\\\\\\", \\\\\\\"name\\\\\\\": \\\\\\\"numPrevOwners\\\\\\\"}, {\\\\\\\"type\\\\\\\": \\\\\\\"long\\\\\\\", \\\\\\\"name\\\\\\\": \\\\\\\"numberOfRooms\\\\\\\"}, {\\\\\\\"type\\\\\\\": \\\\\\\"long\\\\\\\", \\\\\\\"name\\\\\\\": \\\\\\\"squareMeters\\\\\\\"}, {\\\\\\\"type\\\\\\\": \\\\\\\"double\\\\\\\", \\\\\\\"name\\\\\\\": \\\\\\\"squareMeters_z_score_abs\\\\\\\"}]\\\", \\\"outputs\\\": \\\"[{\\\\\\\"type\\\\\\\": \\\\\\\"tensor\\\\\\\", \\\\\\\"tensor-spec\\\\\\\": {\\\\\\\"dtype\\\\\\\": \\\\\\\"float64\\\\\\\", \\\\\\\"shape\\\\\\\": [-1]}}]\\\", \\\"params\\\": null}}, {\\\"run_id\\\": \\\"ef365e54fc454667b1aab0a03f9d0e68\\\", \\\"artifact_path\\\": \\\"model\\\", \\\"utc_time_created\\\": \\\"2023-11-26 18:21:04.821099\\\", \\\"flavors\\\": {\\\"python_function\\\": {\\\"model_path\\\": \\\"model.pkl\\\", \\\"predict_fn\\\": \\\"predict\\\", \\\"loader_module\\\": \\\"mlflow.sklearn\\\", \\\"python_version\\\": \\\"3.10.13\\\", \\\"env\\\": {\\\"conda\\\": \\\"conda.yaml\\\", \\\"virtualenv\\\": \\\"python_env.yaml\\\"}}, \\\"sklearn\\\": {\\\"pickled_model\\\": \\\"model.pkl\\\", \\\"sklearn_version\\\": \\\"1.2.2\\\", \\\"serialization_format\\\": \\\"cloudpickle\\\", \\\"code\\\": null}}, \\\"model_uuid\\\": \\\"7c1d2d008d53401ba61cc4decb8a16b3\\\", \\\"mlflow_version\\\": \\\"2.6.0\\\"}]\", \"tags.mlflow.source.git.commit\": \"15d24a1b20b9b037a292cae3542773fcca10b3b2\", \"tags.estimator_class\": \"sklearn.ensemble._forest.RandomForestRegressor\", \"tags.estimator_name\": \"RandomForestRegressor\", \"tags.mlflow.runName\": \"RandomForestRegressor\", \"tags.mlflow.source.name\": \"/Users/zacklarsen/Documents/Projects/kaggle/kaggle-paris-housing-prices/src/run_flow.py\"}, {\"run_id\": \"f72906a459034a99afa418d239663add\", \"experiment_id\": \"225609496909544833\", \"status\": \"FINISHED\", \"artifact_uri\": \"file:///Users/zacklarsen/Documents/Projects/kaggle/kaggle-paris-housing-prices/mlruns/225609496909544833/f72906a459034a99afa418d239663add/artifacts\", \"start_time\": \"2023-11-26T17:55:45.445000000\", \"end_time\": \"2023-11-26T17:55:58.606000000\", \"metrics.training_mean_absolute_error\": 3613.730719658782, \"metrics.training_root_mean_squared_error\": 60083.15794424952, \"metrics.training_score\": 0.9995773232430845, \"metrics.training_mean_squared_error\": 3609985868.553634, \"metrics.training_r2_score\": 0.9995773232430845, \"params.ccp_alpha\": \"0.0\", \"params.min_samples_split\": \"2\", \"params.min_weight_fraction_leaf\": \"0.0\", \"params.bootstrap\": \"True\", \"params.max_depth\": \"None\", \"params.min_samples_leaf\": \"1\", \"params.criterion\": \"squared_error\", \"params.max_samples\": \"None\", \"params.n_jobs\": \"None\", \"params.verbose\": \"0\", \"params.n_estimators\": \"100\", \"params.max_features\": \"1.0\", \"params.warm_start\": \"False\", \"params.min_impurity_decrease\": \"0.0\", \"params.max_leaf_nodes\": \"None\", \"params.random_state\": \"None\", \"params.oob_score\": \"False\", \"params.positive\": null, \"params.copy_X\": null, \"params.fit_intercept\": null, \"tags.mlflow.user\": \"zacklarsen\", \"tags.mlflow.source.type\": \"LOCAL\", \"tags.mlflow.log-model.history\": \"[{\\\"run_id\\\": \\\"f72906a459034a99afa418d239663add\\\", \\\"artifact_path\\\": \\\"model\\\", \\\"utc_time_created\\\": \\\"2023-11-26 17:55:55.739452\\\", \\\"flavors\\\": {\\\"python_function\\\": {\\\"model_path\\\": \\\"model.pkl\\\", \\\"predict_fn\\\": \\\"predict\\\", \\\"loader_module\\\": \\\"mlflow.sklearn\\\", \\\"python_version\\\": \\\"3.10.13\\\", \\\"env\\\": {\\\"conda\\\": \\\"conda.yaml\\\", \\\"virtualenv\\\": \\\"python_env.yaml\\\"}}, \\\"sklearn\\\": {\\\"pickled_model\\\": \\\"model.pkl\\\", \\\"sklearn_version\\\": \\\"1.2.2\\\", \\\"serialization_format\\\": \\\"cloudpickle\\\", \\\"code\\\": null}}, \\\"model_uuid\\\": \\\"d0f93a0333f449c2af4e1551a3146203\\\", \\\"mlflow_version\\\": \\\"2.6.0\\\", \\\"signature\\\": {\\\"inputs\\\": \\\"[{\\\\\\\"type\\\\\\\": \\\\\\\"long\\\\\\\", \\\\\\\"name\\\\\\\": \\\\\\\"age\\\\\\\"}, {\\\\\\\"type\\\\\\\": \\\\\\\"long\\\\\\\", \\\\\\\"name\\\\\\\": \\\\\\\"attic\\\\\\\"}, {\\\\\\\"type\\\\\\\": \\\\\\\"double\\\\\\\", \\\\\\\"name\\\\\\\": \\\\\\\"attic_z_score_abs\\\\\\\"}, {\\\\\\\"type\\\\\\\": \\\\\\\"long\\\\\\\", \\\\\\\"name\\\\\\\": \\\\\\\"basement\\\\\\\"}, {\\\\\\\"type\\\\\\\": \\\\\\\"double\\\\\\\", \\\\\\\"name\\\\\\\": \\\\\\\"basement_z_score_abs\\\\\\\"}, {\\\\\\\"type\\\\\\\": \\\\\\\"long\\\\\\\", \\\\\\\"name\\\\\\\": \\\\\\\"cityCode\\\\\\\"}, {\\\\\\\"type\\\\\\\": \\\\\\\"long\\\\\\\", \\\\\\\"name\\\\\\\": \\\\\\\"cityPartRange\\\\\\\"}, {\\\\\\\"type\\\\\\\": \\\\\\\"long\\\\\\\", \\\\\\\"name\\\\\\\": \\\\\\\"floors\\\\\\\"}, {\\\\\\\"type\\\\\\\": \\\\\\\"double\\\\\\\", \\\\\\\"name\\\\\\\": \\\\\\\"floors_z_score_abs\\\\\\\"}, {\\\\\\\"type\\\\\\\": \\\\\\\"long\\\\\\\", \\\\\\\"name\\\\\\\": \\\\\\\"garage\\\\\\\"}, {\\\\\\\"type\\\\\\\": \\\\\\\"double\\\\\\\", \\\\\\\"name\\\\\\\": \\\\\\\"garage_z_score_abs\\\\\\\"}, {\\\\\\\"type\\\\\\\": \\\\\\\"long\\\\\\\", \\\\\\\"name\\\\\\\": \\\\\\\"hasGuestRoom\\\\\\\"}, {\\\\\\\"type\\\\\\\": \\\\\\\"long\\\\\\\", \\\\\\\"name\\\\\\\": \\\\\\\"hasPool\\\\\\\"}, {\\\\\\\"type\\\\\\\": \\\\\\\"long\\\\\\\", \\\\\\\"name\\\\\\\": \\\\\\\"hasStorageRoom\\\\\\\"}, {\\\\\\\"type\\\\\\\": \\\\\\\"long\\\\\\\", \\\\\\\"name\\\\\\\": \\\\\\\"hasStormProtector\\\\\\\"}, {\\\\\\\"type\\\\\\\": \\\\\\\"long\\\\\\\", \\\\\\\"name\\\\\\\": \\\\\\\"hasYard\\\\\\\"}, {\\\\\\\"type\\\\\\\": \\\\\\\"long\\\\\\\", \\\\\\\"name\\\\\\\": \\\\\\\"isNewBuilt\\\\\\\"}, {\\\\\\\"type\\\\\\\": \\\\\\\"long\\\\\\\", \\\\\\\"name\\\\\\\": \\\\\\\"numPrevOwners\\\\\\\"}, {\\\\\\\"type\\\\\\\": \\\\\\\"long\\\\\\\", \\\\\\\"name\\\\\\\": \\\\\\\"numberOfRooms\\\\\\\"}, {\\\\\\\"type\\\\\\\": \\\\\\\"long\\\\\\\", \\\\\\\"name\\\\\\\": \\\\\\\"squareMeters\\\\\\\"}, {\\\\\\\"type\\\\\\\": \\\\\\\"double\\\\\\\", \\\\\\\"name\\\\\\\": \\\\\\\"squareMeters_z_score_abs\\\\\\\"}]\\\", \\\"outputs\\\": \\\"[{\\\\\\\"type\\\\\\\": \\\\\\\"tensor\\\\\\\", \\\\\\\"tensor-spec\\\\\\\": {\\\\\\\"dtype\\\\\\\": \\\\\\\"float64\\\\\\\", \\\\\\\"shape\\\\\\\": [-1]}}]\\\", \\\"params\\\": null}}, {\\\"run_id\\\": \\\"f72906a459034a99afa418d239663add\\\", \\\"artifact_path\\\": \\\"model\\\", \\\"utc_time_created\\\": \\\"2023-11-26 17:55:57.445593\\\", \\\"flavors\\\": {\\\"python_function\\\": {\\\"model_path\\\": \\\"model.pkl\\\", \\\"predict_fn\\\": \\\"predict\\\", \\\"loader_module\\\": \\\"mlflow.sklearn\\\", \\\"python_version\\\": \\\"3.10.13\\\", \\\"env\\\": {\\\"conda\\\": \\\"conda.yaml\\\", \\\"virtualenv\\\": \\\"python_env.yaml\\\"}}, \\\"sklearn\\\": {\\\"pickled_model\\\": \\\"model.pkl\\\", \\\"sklearn_version\\\": \\\"1.2.2\\\", \\\"serialization_format\\\": \\\"cloudpickle\\\", \\\"code\\\": null}}, \\\"model_uuid\\\": \\\"78ebe3d6d5b841828715ec57fcc278a4\\\", \\\"mlflow_version\\\": \\\"2.6.0\\\"}]\", \"tags.mlflow.source.git.commit\": \"15d24a1b20b9b037a292cae3542773fcca10b3b2\", \"tags.estimator_class\": \"sklearn.ensemble._forest.RandomForestRegressor\", \"tags.estimator_name\": \"RandomForestRegressor\", \"tags.mlflow.runName\": \"rogue-bass-807\", \"tags.mlflow.source.name\": \"/Users/zacklarsen/Documents/Projects/kaggle/kaggle-paris-housing-prices/src/run_flow.py\"}, {\"run_id\": \"533300a63e5a4a1592a365c65d692d40\", \"experiment_id\": \"225609496909544833\", \"status\": \"FAILED\", \"artifact_uri\": \"file:///Users/zacklarsen/Documents/Projects/kaggle/kaggle-paris-housing-prices/mlruns/225609496909544833/533300a63e5a4a1592a365c65d692d40/artifacts\", \"start_time\": \"2023-11-26T17:55:09.462000000\", \"end_time\": \"2023-11-26T17:55:09.729000000\", \"metrics.training_mean_absolute_error\": null, \"metrics.training_root_mean_squared_error\": null, \"metrics.training_score\": null, \"metrics.training_mean_squared_error\": null, \"metrics.training_r2_score\": null, \"params.ccp_alpha\": null, \"params.min_samples_split\": null, \"params.min_weight_fraction_leaf\": null, \"params.bootstrap\": null, \"params.max_depth\": null, \"params.min_samples_leaf\": null, \"params.criterion\": null, \"params.max_samples\": null, \"params.n_jobs\": null, \"params.verbose\": null, \"params.n_estimators\": null, \"params.max_features\": null, \"params.warm_start\": null, \"params.min_impurity_decrease\": null, \"params.max_leaf_nodes\": null, \"params.random_state\": null, \"params.oob_score\": null, \"params.positive\": null, \"params.copy_X\": null, \"params.fit_intercept\": null, \"tags.mlflow.user\": \"zacklarsen\", \"tags.mlflow.source.type\": \"LOCAL\", \"tags.mlflow.log-model.history\": null, \"tags.mlflow.source.git.commit\": \"15d24a1b20b9b037a292cae3542773fcca10b3b2\", \"tags.estimator_class\": null, \"tags.estimator_name\": null, \"tags.mlflow.runName\": \"rumbling-koi-79\", \"tags.mlflow.source.name\": \"/Users/zacklarsen/Documents/Projects/kaggle/kaggle-paris-housing-prices/src/run_flow.py\"}, {\"run_id\": \"68db303a03904c3b9b51ad673728d0c9\", \"experiment_id\": \"225609496909544833\", \"status\": \"FINISHED\", \"artifact_uri\": \"file:///Users/zacklarsen/Documents/Projects/kaggle/kaggle-paris-housing-prices/mlruns/225609496909544833/68db303a03904c3b9b51ad673728d0c9/artifacts\", \"start_time\": \"2023-11-26T17:00:00.461000000\", \"end_time\": \"2023-11-26T17:00:03.484000000\", \"metrics.training_mean_absolute_error\": 14698.810633630523, \"metrics.training_root_mean_squared_error\": 200059.71731214787, \"metrics.training_score\": 0.9953137854695634, \"metrics.training_mean_squared_error\": 40023890491.01652, \"metrics.training_r2_score\": 0.9953137854695634, \"params.ccp_alpha\": null, \"params.min_samples_split\": null, \"params.min_weight_fraction_leaf\": null, \"params.bootstrap\": null, \"params.max_depth\": null, \"params.min_samples_leaf\": null, \"params.criterion\": null, \"params.max_samples\": null, \"params.n_jobs\": \"None\", \"params.verbose\": null, \"params.n_estimators\": null, \"params.max_features\": null, \"params.warm_start\": null, \"params.min_impurity_decrease\": null, \"params.max_leaf_nodes\": null, \"params.random_state\": null, \"params.oob_score\": null, \"params.positive\": \"False\", \"params.copy_X\": \"True\", \"params.fit_intercept\": \"True\", \"tags.mlflow.user\": \"zacklarsen\", \"tags.mlflow.source.type\": \"LOCAL\", \"tags.mlflow.log-model.history\": \"[{\\\"run_id\\\": \\\"68db303a03904c3b9b51ad673728d0c9\\\", \\\"artifact_path\\\": \\\"model\\\", \\\"utc_time_created\\\": \\\"2023-11-26 17:00:00.759634\\\", \\\"flavors\\\": {\\\"python_function\\\": {\\\"model_path\\\": \\\"model.pkl\\\", \\\"predict_fn\\\": \\\"predict\\\", \\\"loader_module\\\": \\\"mlflow.sklearn\\\", \\\"python_version\\\": \\\"3.10.13\\\", \\\"env\\\": {\\\"conda\\\": \\\"conda.yaml\\\", \\\"virtualenv\\\": \\\"python_env.yaml\\\"}}, \\\"sklearn\\\": {\\\"pickled_model\\\": \\\"model.pkl\\\", \\\"sklearn_version\\\": \\\"1.2.2\\\", \\\"serialization_format\\\": \\\"cloudpickle\\\", \\\"code\\\": null}}, \\\"model_uuid\\\": \\\"6199854311ff4ff3b3b91808e070057c\\\", \\\"mlflow_version\\\": \\\"2.6.0\\\", \\\"signature\\\": {\\\"inputs\\\": \\\"[{\\\\\\\"type\\\\\\\": \\\\\\\"long\\\\\\\", \\\\\\\"name\\\\\\\": \\\\\\\"age\\\\\\\"}, {\\\\\\\"type\\\\\\\": \\\\\\\"long\\\\\\\", \\\\\\\"name\\\\\\\": \\\\\\\"attic\\\\\\\"}, {\\\\\\\"type\\\\\\\": \\\\\\\"double\\\\\\\", \\\\\\\"name\\\\\\\": \\\\\\\"attic_z_score_abs\\\\\\\"}, {\\\\\\\"type\\\\\\\": \\\\\\\"long\\\\\\\", \\\\\\\"name\\\\\\\": \\\\\\\"basement\\\\\\\"}, {\\\\\\\"type\\\\\\\": \\\\\\\"double\\\\\\\", \\\\\\\"name\\\\\\\": \\\\\\\"basement_z_score_abs\\\\\\\"}, {\\\\\\\"type\\\\\\\": \\\\\\\"long\\\\\\\", \\\\\\\"name\\\\\\\": \\\\\\\"cityCode\\\\\\\"}, {\\\\\\\"type\\\\\\\": \\\\\\\"long\\\\\\\", \\\\\\\"name\\\\\\\": \\\\\\\"cityPartRange\\\\\\\"}, {\\\\\\\"type\\\\\\\": \\\\\\\"long\\\\\\\", \\\\\\\"name\\\\\\\": \\\\\\\"floors\\\\\\\"}, {\\\\\\\"type\\\\\\\": \\\\\\\"double\\\\\\\", \\\\\\\"name\\\\\\\": \\\\\\\"floors_z_score_abs\\\\\\\"}, {\\\\\\\"type\\\\\\\": \\\\\\\"long\\\\\\\", \\\\\\\"name\\\\\\\": \\\\\\\"garage\\\\\\\"}, {\\\\\\\"type\\\\\\\": \\\\\\\"double\\\\\\\", \\\\\\\"name\\\\\\\": \\\\\\\"garage_z_score_abs\\\\\\\"}, {\\\\\\\"type\\\\\\\": \\\\\\\"long\\\\\\\", \\\\\\\"name\\\\\\\": \\\\\\\"hasGuestRoom\\\\\\\"}, {\\\\\\\"type\\\\\\\": \\\\\\\"long\\\\\\\", \\\\\\\"name\\\\\\\": \\\\\\\"hasPool\\\\\\\"}, {\\\\\\\"type\\\\\\\": \\\\\\\"long\\\\\\\", \\\\\\\"name\\\\\\\": \\\\\\\"hasStorageRoom\\\\\\\"}, {\\\\\\\"type\\\\\\\": \\\\\\\"long\\\\\\\", \\\\\\\"name\\\\\\\": \\\\\\\"hasStormProtector\\\\\\\"}, {\\\\\\\"type\\\\\\\": \\\\\\\"long\\\\\\\", \\\\\\\"name\\\\\\\": \\\\\\\"hasYard\\\\\\\"}, {\\\\\\\"type\\\\\\\": \\\\\\\"long\\\\\\\", \\\\\\\"name\\\\\\\": \\\\\\\"isNewBuilt\\\\\\\"}, {\\\\\\\"type\\\\\\\": \\\\\\\"long\\\\\\\", \\\\\\\"name\\\\\\\": \\\\\\\"numPrevOwners\\\\\\\"}, {\\\\\\\"type\\\\\\\": \\\\\\\"long\\\\\\\", \\\\\\\"name\\\\\\\": \\\\\\\"numberOfRooms\\\\\\\"}, {\\\\\\\"type\\\\\\\": \\\\\\\"long\\\\\\\", \\\\\\\"name\\\\\\\": \\\\\\\"squareMeters\\\\\\\"}, {\\\\\\\"type\\\\\\\": \\\\\\\"double\\\\\\\", \\\\\\\"name\\\\\\\": \\\\\\\"squareMeters_z_score_abs\\\\\\\"}]\\\", \\\"outputs\\\": \\\"[{\\\\\\\"type\\\\\\\": \\\\\\\"tensor\\\\\\\", \\\\\\\"tensor-spec\\\\\\\": {\\\\\\\"dtype\\\\\\\": \\\\\\\"float64\\\\\\\", \\\\\\\"shape\\\\\\\": [-1, 1]}}]\\\", \\\"params\\\": null}}, {\\\"run_id\\\": \\\"68db303a03904c3b9b51ad673728d0c9\\\", \\\"artifact_path\\\": \\\"LR_model\\\", \\\"utc_time_created\\\": \\\"2023-11-26 17:00:02.330144\\\", \\\"flavors\\\": {\\\"python_function\\\": {\\\"model_path\\\": \\\"model.pkl\\\", \\\"predict_fn\\\": \\\"predict\\\", \\\"loader_module\\\": \\\"mlflow.sklearn\\\", \\\"python_version\\\": \\\"3.10.13\\\", \\\"env\\\": {\\\"conda\\\": \\\"conda.yaml\\\", \\\"virtualenv\\\": \\\"python_env.yaml\\\"}}, \\\"sklearn\\\": {\\\"pickled_model\\\": \\\"model.pkl\\\", \\\"sklearn_version\\\": \\\"1.2.2\\\", \\\"serialization_format\\\": \\\"cloudpickle\\\", \\\"code\\\": null}}, \\\"model_uuid\\\": \\\"fb7c0525988b490abdf5582f753a2ae8\\\", \\\"mlflow_version\\\": \\\"2.6.0\\\"}]\", \"tags.mlflow.source.git.commit\": null, \"tags.estimator_class\": \"sklearn.linear_model._base.LinearRegression\", \"tags.estimator_name\": \"LinearRegression\", \"tags.mlflow.runName\": \"LR_model\", \"tags.mlflow.source.name\": \"/Users/zacklarsen/mambaforge/envs/kaggle_paris/lib/python3.10/site-packages/ipykernel_launcher.py\"}, {\"run_id\": \"048e4e92b30a49528b6708602bcd1018\", \"experiment_id\": \"225609496909544833\", \"status\": \"FINISHED\", \"artifact_uri\": \"file:///Users/zacklarsen/Documents/Projects/kaggle/kaggle-paris-housing-prices/mlruns/225609496909544833/048e4e92b30a49528b6708602bcd1018/artifacts\", \"start_time\": \"2023-11-26T16:40:29.143000000\", \"end_time\": \"2023-11-26T16:40:31.993000000\", \"metrics.training_mean_absolute_error\": 14698.810633630523, \"metrics.training_root_mean_squared_error\": 200059.71731214787, \"metrics.training_score\": 0.9953137854695634, \"metrics.training_mean_squared_error\": 40023890491.01652, \"metrics.training_r2_score\": 0.9953137854695634, \"params.ccp_alpha\": null, \"params.min_samples_split\": null, \"params.min_weight_fraction_leaf\": null, \"params.bootstrap\": null, \"params.max_depth\": null, \"params.min_samples_leaf\": null, \"params.criterion\": null, \"params.max_samples\": null, \"params.n_jobs\": \"None\", \"params.verbose\": null, \"params.n_estimators\": null, \"params.max_features\": null, \"params.warm_start\": null, \"params.min_impurity_decrease\": null, \"params.max_leaf_nodes\": null, \"params.random_state\": null, \"params.oob_score\": null, \"params.positive\": \"False\", \"params.copy_X\": \"True\", \"params.fit_intercept\": \"True\", \"tags.mlflow.user\": \"zacklarsen\", \"tags.mlflow.source.type\": \"LOCAL\", \"tags.mlflow.log-model.history\": \"[{\\\"run_id\\\": \\\"048e4e92b30a49528b6708602bcd1018\\\", \\\"artifact_path\\\": \\\"model\\\", \\\"utc_time_created\\\": \\\"2023-11-26 16:40:29.493021\\\", \\\"flavors\\\": {\\\"python_function\\\": {\\\"model_path\\\": \\\"model.pkl\\\", \\\"predict_fn\\\": \\\"predict\\\", \\\"loader_module\\\": \\\"mlflow.sklearn\\\", \\\"python_version\\\": \\\"3.10.13\\\", \\\"env\\\": {\\\"conda\\\": \\\"conda.yaml\\\", \\\"virtualenv\\\": \\\"python_env.yaml\\\"}}, \\\"sklearn\\\": {\\\"pickled_model\\\": \\\"model.pkl\\\", \\\"sklearn_version\\\": \\\"1.2.2\\\", \\\"serialization_format\\\": \\\"cloudpickle\\\", \\\"code\\\": null}}, \\\"model_uuid\\\": \\\"fe148fe8db3f4c6ba20153616bfa9fb0\\\", \\\"mlflow_version\\\": \\\"2.6.0\\\", \\\"signature\\\": {\\\"inputs\\\": \\\"[{\\\\\\\"type\\\\\\\": \\\\\\\"long\\\\\\\", \\\\\\\"name\\\\\\\": \\\\\\\"age\\\\\\\"}, {\\\\\\\"type\\\\\\\": \\\\\\\"long\\\\\\\", \\\\\\\"name\\\\\\\": \\\\\\\"attic\\\\\\\"}, {\\\\\\\"type\\\\\\\": \\\\\\\"double\\\\\\\", \\\\\\\"name\\\\\\\": \\\\\\\"attic_z_score_abs\\\\\\\"}, {\\\\\\\"type\\\\\\\": \\\\\\\"long\\\\\\\", \\\\\\\"name\\\\\\\": \\\\\\\"basement\\\\\\\"}, {\\\\\\\"type\\\\\\\": \\\\\\\"double\\\\\\\", \\\\\\\"name\\\\\\\": \\\\\\\"basement_z_score_abs\\\\\\\"}, {\\\\\\\"type\\\\\\\": \\\\\\\"long\\\\\\\", \\\\\\\"name\\\\\\\": \\\\\\\"cityCode\\\\\\\"}, {\\\\\\\"type\\\\\\\": \\\\\\\"long\\\\\\\", \\\\\\\"name\\\\\\\": \\\\\\\"cityPartRange\\\\\\\"}, {\\\\\\\"type\\\\\\\": \\\\\\\"long\\\\\\\", \\\\\\\"name\\\\\\\": \\\\\\\"floors\\\\\\\"}, {\\\\\\\"type\\\\\\\": \\\\\\\"double\\\\\\\", \\\\\\\"name\\\\\\\": \\\\\\\"floors_z_score_abs\\\\\\\"}, {\\\\\\\"type\\\\\\\": \\\\\\\"long\\\\\\\", \\\\\\\"name\\\\\\\": \\\\\\\"garage\\\\\\\"}, {\\\\\\\"type\\\\\\\": \\\\\\\"double\\\\\\\", \\\\\\\"name\\\\\\\": \\\\\\\"garage_z_score_abs\\\\\\\"}, {\\\\\\\"type\\\\\\\": \\\\\\\"long\\\\\\\", \\\\\\\"name\\\\\\\": \\\\\\\"hasGuestRoom\\\\\\\"}, {\\\\\\\"type\\\\\\\": \\\\\\\"long\\\\\\\", \\\\\\\"name\\\\\\\": \\\\\\\"hasPool\\\\\\\"}, {\\\\\\\"type\\\\\\\": \\\\\\\"long\\\\\\\", \\\\\\\"name\\\\\\\": \\\\\\\"hasStorageRoom\\\\\\\"}, {\\\\\\\"type\\\\\\\": \\\\\\\"long\\\\\\\", \\\\\\\"name\\\\\\\": \\\\\\\"hasStormProtector\\\\\\\"}, {\\\\\\\"type\\\\\\\": \\\\\\\"long\\\\\\\", \\\\\\\"name\\\\\\\": \\\\\\\"hasYard\\\\\\\"}, {\\\\\\\"type\\\\\\\": \\\\\\\"long\\\\\\\", \\\\\\\"name\\\\\\\": \\\\\\\"isNewBuilt\\\\\\\"}, {\\\\\\\"type\\\\\\\": \\\\\\\"long\\\\\\\", \\\\\\\"name\\\\\\\": \\\\\\\"numPrevOwners\\\\\\\"}, {\\\\\\\"type\\\\\\\": \\\\\\\"long\\\\\\\", \\\\\\\"name\\\\\\\": \\\\\\\"numberOfRooms\\\\\\\"}, {\\\\\\\"type\\\\\\\": \\\\\\\"long\\\\\\\", \\\\\\\"name\\\\\\\": \\\\\\\"squareMeters\\\\\\\"}, {\\\\\\\"type\\\\\\\": \\\\\\\"double\\\\\\\", \\\\\\\"name\\\\\\\": \\\\\\\"squareMeters_z_score_abs\\\\\\\"}]\\\", \\\"outputs\\\": \\\"[{\\\\\\\"type\\\\\\\": \\\\\\\"tensor\\\\\\\", \\\\\\\"tensor-spec\\\\\\\": {\\\\\\\"dtype\\\\\\\": \\\\\\\"float64\\\\\\\", \\\\\\\"shape\\\\\\\": [-1, 1]}}]\\\", \\\"params\\\": null}}, {\\\"run_id\\\": \\\"048e4e92b30a49528b6708602bcd1018\\\", \\\"artifact_path\\\": \\\"model\\\", \\\"utc_time_created\\\": \\\"2023-11-26 16:40:30.965101\\\", \\\"flavors\\\": {\\\"python_function\\\": {\\\"model_path\\\": \\\"model.pkl\\\", \\\"predict_fn\\\": \\\"predict\\\", \\\"loader_module\\\": \\\"mlflow.sklearn\\\", \\\"python_version\\\": \\\"3.10.13\\\", \\\"env\\\": {\\\"conda\\\": \\\"conda.yaml\\\", \\\"virtualenv\\\": \\\"python_env.yaml\\\"}}, \\\"sklearn\\\": {\\\"pickled_model\\\": \\\"model.pkl\\\", \\\"sklearn_version\\\": \\\"1.2.2\\\", \\\"serialization_format\\\": \\\"cloudpickle\\\", \\\"code\\\": null}}, \\\"model_uuid\\\": \\\"87485c28a8f943e5962b283c9f8d4ec1\\\", \\\"mlflow_version\\\": \\\"2.6.0\\\"}]\", \"tags.mlflow.source.git.commit\": \"15d24a1b20b9b037a292cae3542773fcca10b3b2\", \"tags.estimator_class\": \"sklearn.linear_model._base.LinearRegression\", \"tags.estimator_name\": \"LinearRegression\", \"tags.mlflow.runName\": \"mercurial-grub-967\", \"tags.mlflow.source.name\": \"/Users/zacklarsen/Documents/Projects/kaggle/kaggle-paris-housing-prices/src/run_flow.py\"}, {\"run_id\": \"a50bcc9e274d472d977c24821a92c954\", \"experiment_id\": \"225609496909544833\", \"status\": \"FINISHED\", \"artifact_uri\": \"file:///Users/zacklarsen/Documents/Projects/kaggle/kaggle-paris-housing-prices/mlruns/225609496909544833/a50bcc9e274d472d977c24821a92c954/artifacts\", \"start_time\": \"2023-11-26T16:16:33.599000000\", \"end_time\": \"2023-11-26T16:16:36.456000000\", \"metrics.training_mean_absolute_error\": 14698.810633630523, \"metrics.training_root_mean_squared_error\": 200059.71731214787, \"metrics.training_score\": 0.9953137854695634, \"metrics.training_mean_squared_error\": 40023890491.01652, \"metrics.training_r2_score\": 0.9953137854695634, \"params.ccp_alpha\": null, \"params.min_samples_split\": null, \"params.min_weight_fraction_leaf\": null, \"params.bootstrap\": null, \"params.max_depth\": null, \"params.min_samples_leaf\": null, \"params.criterion\": null, \"params.max_samples\": null, \"params.n_jobs\": \"None\", \"params.verbose\": null, \"params.n_estimators\": null, \"params.max_features\": null, \"params.warm_start\": null, \"params.min_impurity_decrease\": null, \"params.max_leaf_nodes\": null, \"params.random_state\": null, \"params.oob_score\": null, \"params.positive\": \"False\", \"params.copy_X\": \"True\", \"params.fit_intercept\": \"True\", \"tags.mlflow.user\": \"zacklarsen\", \"tags.mlflow.source.type\": \"LOCAL\", \"tags.mlflow.log-model.history\": \"[{\\\"run_id\\\": \\\"a50bcc9e274d472d977c24821a92c954\\\", \\\"artifact_path\\\": \\\"model\\\", \\\"utc_time_created\\\": \\\"2023-11-26 16:16:33.932492\\\", \\\"flavors\\\": {\\\"python_function\\\": {\\\"model_path\\\": \\\"model.pkl\\\", \\\"predict_fn\\\": \\\"predict\\\", \\\"loader_module\\\": \\\"mlflow.sklearn\\\", \\\"python_version\\\": \\\"3.10.13\\\", \\\"env\\\": {\\\"conda\\\": \\\"conda.yaml\\\", \\\"virtualenv\\\": \\\"python_env.yaml\\\"}}, \\\"sklearn\\\": {\\\"pickled_model\\\": \\\"model.pkl\\\", \\\"sklearn_version\\\": \\\"1.2.2\\\", \\\"serialization_format\\\": \\\"cloudpickle\\\", \\\"code\\\": null}}, \\\"model_uuid\\\": \\\"7ac922c833584d188140e2ceb0c45205\\\", \\\"mlflow_version\\\": \\\"2.6.0\\\", \\\"signature\\\": {\\\"inputs\\\": \\\"[{\\\\\\\"type\\\\\\\": \\\\\\\"long\\\\\\\", \\\\\\\"name\\\\\\\": \\\\\\\"age\\\\\\\"}, {\\\\\\\"type\\\\\\\": \\\\\\\"long\\\\\\\", \\\\\\\"name\\\\\\\": \\\\\\\"attic\\\\\\\"}, {\\\\\\\"type\\\\\\\": \\\\\\\"double\\\\\\\", \\\\\\\"name\\\\\\\": \\\\\\\"attic_z_score_abs\\\\\\\"}, {\\\\\\\"type\\\\\\\": \\\\\\\"long\\\\\\\", \\\\\\\"name\\\\\\\": \\\\\\\"basement\\\\\\\"}, {\\\\\\\"type\\\\\\\": \\\\\\\"double\\\\\\\", \\\\\\\"name\\\\\\\": \\\\\\\"basement_z_score_abs\\\\\\\"}, {\\\\\\\"type\\\\\\\": \\\\\\\"long\\\\\\\", \\\\\\\"name\\\\\\\": \\\\\\\"cityCode\\\\\\\"}, {\\\\\\\"type\\\\\\\": \\\\\\\"long\\\\\\\", \\\\\\\"name\\\\\\\": \\\\\\\"cityPartRange\\\\\\\"}, {\\\\\\\"type\\\\\\\": \\\\\\\"long\\\\\\\", \\\\\\\"name\\\\\\\": \\\\\\\"floors\\\\\\\"}, {\\\\\\\"type\\\\\\\": \\\\\\\"double\\\\\\\", \\\\\\\"name\\\\\\\": \\\\\\\"floors_z_score_abs\\\\\\\"}, {\\\\\\\"type\\\\\\\": \\\\\\\"long\\\\\\\", \\\\\\\"name\\\\\\\": \\\\\\\"garage\\\\\\\"}, {\\\\\\\"type\\\\\\\": \\\\\\\"double\\\\\\\", \\\\\\\"name\\\\\\\": \\\\\\\"garage_z_score_abs\\\\\\\"}, {\\\\\\\"type\\\\\\\": \\\\\\\"long\\\\\\\", \\\\\\\"name\\\\\\\": \\\\\\\"hasGuestRoom\\\\\\\"}, {\\\\\\\"type\\\\\\\": \\\\\\\"long\\\\\\\", \\\\\\\"name\\\\\\\": \\\\\\\"hasPool\\\\\\\"}, {\\\\\\\"type\\\\\\\": \\\\\\\"long\\\\\\\", \\\\\\\"name\\\\\\\": \\\\\\\"hasStorageRoom\\\\\\\"}, {\\\\\\\"type\\\\\\\": \\\\\\\"long\\\\\\\", \\\\\\\"name\\\\\\\": \\\\\\\"hasStormProtector\\\\\\\"}, {\\\\\\\"type\\\\\\\": \\\\\\\"long\\\\\\\", \\\\\\\"name\\\\\\\": \\\\\\\"hasYard\\\\\\\"}, {\\\\\\\"type\\\\\\\": \\\\\\\"long\\\\\\\", \\\\\\\"name\\\\\\\": \\\\\\\"isNewBuilt\\\\\\\"}, {\\\\\\\"type\\\\\\\": \\\\\\\"long\\\\\\\", \\\\\\\"name\\\\\\\": \\\\\\\"numPrevOwners\\\\\\\"}, {\\\\\\\"type\\\\\\\": \\\\\\\"long\\\\\\\", \\\\\\\"name\\\\\\\": \\\\\\\"numberOfRooms\\\\\\\"}, {\\\\\\\"type\\\\\\\": \\\\\\\"long\\\\\\\", \\\\\\\"name\\\\\\\": \\\\\\\"squareMeters\\\\\\\"}, {\\\\\\\"type\\\\\\\": \\\\\\\"double\\\\\\\", \\\\\\\"name\\\\\\\": \\\\\\\"squareMeters_z_score_abs\\\\\\\"}]\\\", \\\"outputs\\\": \\\"[{\\\\\\\"type\\\\\\\": \\\\\\\"tensor\\\\\\\", \\\\\\\"tensor-spec\\\\\\\": {\\\\\\\"dtype\\\\\\\": \\\\\\\"float64\\\\\\\", \\\\\\\"shape\\\\\\\": [-1, 1]}}]\\\", \\\"params\\\": null}}, {\\\"run_id\\\": \\\"a50bcc9e274d472d977c24821a92c954\\\", \\\"artifact_path\\\": \\\"model\\\", \\\"utc_time_created\\\": \\\"2023-11-26 16:16:35.415670\\\", \\\"flavors\\\": {\\\"python_function\\\": {\\\"model_path\\\": \\\"model.pkl\\\", \\\"predict_fn\\\": \\\"predict\\\", \\\"loader_module\\\": \\\"mlflow.sklearn\\\", \\\"python_version\\\": \\\"3.10.13\\\", \\\"env\\\": {\\\"conda\\\": \\\"conda.yaml\\\", \\\"virtualenv\\\": \\\"python_env.yaml\\\"}}, \\\"sklearn\\\": {\\\"pickled_model\\\": \\\"model.pkl\\\", \\\"sklearn_version\\\": \\\"1.2.2\\\", \\\"serialization_format\\\": \\\"cloudpickle\\\", \\\"code\\\": null}}, \\\"model_uuid\\\": \\\"366f00fc49e142c69d9c1fac68c1eee2\\\", \\\"mlflow_version\\\": \\\"2.6.0\\\"}]\", \"tags.mlflow.source.git.commit\": \"c5fffaf6e17e1e406d08da020fcba408e38b3929\", \"tags.estimator_class\": \"sklearn.linear_model._base.LinearRegression\", \"tags.estimator_name\": \"LinearRegression\", \"tags.mlflow.runName\": \"polite-grub-205\", \"tags.mlflow.source.name\": \"/Users/zacklarsen/Documents/Projects/kaggle/kaggle-paris-housing-prices/src/run_flow.py\"}]}}, {\"mode\": \"vega-lite\"});\n",
       "</script>"
      ],
      "text/plain": [
       "alt.Chart(...)"
      ]
     },
     "execution_count": 46,
     "metadata": {},
     "output_type": "execute_result"
    }
   ],
   "source": [
    "alt.Chart(pl.DataFrame(df_runs)).mark_bar().encode(\n",
    "    x=alt.X('tags.mlflow.runName'),\n",
    "    y=alt.Y('metrics.training_root_mean_squared_error'),\n",
    "    color='tags.estimator_name'\n",
    ")"
   ]
  },
  {
   "cell_type": "code",
   "execution_count": null,
   "metadata": {},
   "outputs": [],
   "source": []
  },
  {
   "cell_type": "code",
   "execution_count": null,
   "metadata": {},
   "outputs": [],
   "source": []
  },
  {
   "cell_type": "code",
   "execution_count": null,
   "metadata": {},
   "outputs": [],
   "source": []
  },
  {
   "cell_type": "markdown",
   "metadata": {},
   "source": [
    "## Loading model"
   ]
  },
  {
   "cell_type": "code",
   "execution_count": null,
   "metadata": {},
   "outputs": [],
   "source": []
  },
  {
   "cell_type": "code",
   "execution_count": null,
   "metadata": {},
   "outputs": [],
   "source": []
  },
  {
   "cell_type": "code",
   "execution_count": null,
   "metadata": {},
   "outputs": [],
   "source": []
  },
  {
   "cell_type": "code",
   "execution_count": null,
   "metadata": {},
   "outputs": [],
   "source": []
  },
  {
   "cell_type": "code",
   "execution_count": null,
   "metadata": {},
   "outputs": [],
   "source": []
  },
  {
   "cell_type": "code",
   "execution_count": null,
   "metadata": {},
   "outputs": [],
   "source": []
  },
  {
   "cell_type": "code",
   "execution_count": null,
   "metadata": {},
   "outputs": [],
   "source": []
  },
  {
   "cell_type": "code",
   "execution_count": null,
   "metadata": {},
   "outputs": [],
   "source": []
  },
  {
   "cell_type": "code",
   "execution_count": null,
   "metadata": {},
   "outputs": [],
   "source": []
  },
  {
   "cell_type": "code",
   "execution_count": null,
   "metadata": {},
   "outputs": [],
   "source": []
  },
  {
   "cell_type": "markdown",
   "metadata": {},
   "source": [
    "## Delete an experiment"
   ]
  },
  {
   "cell_type": "code",
   "execution_count": 20,
   "metadata": {},
   "outputs": [
    {
     "ename": "MlflowException",
     "evalue": "Could not find experiment with ID 106250860003603377",
     "output_type": "error",
     "traceback": [
      "\u001b[0;31m---------------------------------------------------------------------------\u001b[0m",
      "\u001b[0;31mMlflowException\u001b[0m                           Traceback (most recent call last)",
      "\u001b[1;32m/Users/zacklarsen/Documents/Projects/kaggle/kaggle-paris-housing-prices/notebooks/mlflow.ipynb Cell 43\u001b[0m line \u001b[0;36m1\n\u001b[0;32m----> <a href='vscode-notebook-cell:/Users/zacklarsen/Documents/Projects/kaggle/kaggle-paris-housing-prices/notebooks/mlflow.ipynb#W4sZmlsZQ%3D%3D?line=0'>1</a>\u001b[0m mlflow\u001b[39m.\u001b[39;49mdelete_experiment(\u001b[39m'\u001b[39;49m\u001b[39m106250860003603377\u001b[39;49m\u001b[39m'\u001b[39;49m)\n",
      "File \u001b[0;32m~/mambaforge/envs/kaggle_paris/lib/python3.10/site-packages/mlflow/tracking/fluent.py:1472\u001b[0m, in \u001b[0;36mdelete_experiment\u001b[0;34m(experiment_id)\u001b[0m\n\u001b[1;32m   1444\u001b[0m \u001b[39mdef\u001b[39;00m \u001b[39mdelete_experiment\u001b[39m(experiment_id: \u001b[39mstr\u001b[39m) \u001b[39m-\u001b[39m\u001b[39m>\u001b[39m \u001b[39mNone\u001b[39;00m:\n\u001b[1;32m   1445\u001b[0m \u001b[39m    \u001b[39m\u001b[39m\"\"\"\u001b[39;00m\n\u001b[1;32m   1446\u001b[0m \u001b[39m    Delete an experiment from the backend store.\u001b[39;00m\n\u001b[1;32m   1447\u001b[0m \n\u001b[0;32m   (...)\u001b[0m\n\u001b[1;32m   1470\u001b[0m \u001b[39m        Last Updated timestamp: 1662004217511\u001b[39;00m\n\u001b[1;32m   1471\u001b[0m \u001b[39m    \"\"\"\u001b[39;00m\n\u001b[0;32m-> 1472\u001b[0m     MlflowClient()\u001b[39m.\u001b[39;49mdelete_experiment(experiment_id)\n",
      "File \u001b[0;32m~/mambaforge/envs/kaggle_paris/lib/python3.10/site-packages/mlflow/tracking/client.py:591\u001b[0m, in \u001b[0;36mMlflowClient.delete_experiment\u001b[0;34m(self, experiment_id)\u001b[0m\n\u001b[1;32m    559\u001b[0m \u001b[39mdef\u001b[39;00m \u001b[39mdelete_experiment\u001b[39m(\u001b[39mself\u001b[39m, experiment_id: \u001b[39mstr\u001b[39m) \u001b[39m-\u001b[39m\u001b[39m>\u001b[39m \u001b[39mNone\u001b[39;00m:\n\u001b[1;32m    560\u001b[0m \u001b[39m    \u001b[39m\u001b[39m\"\"\"\u001b[39;00m\n\u001b[1;32m    561\u001b[0m \u001b[39m    Delete an experiment from the backend store.\u001b[39;00m\n\u001b[1;32m    562\u001b[0m \u001b[39m    This deletion is a soft-delete, not a permanent deletion.\u001b[39;00m\n\u001b[0;32m   (...)\u001b[0m\n\u001b[1;32m    589\u001b[0m \u001b[39m        Lifecycle_stage: deleted\u001b[39;00m\n\u001b[1;32m    590\u001b[0m \u001b[39m    \"\"\"\u001b[39;00m\n\u001b[0;32m--> 591\u001b[0m     \u001b[39mself\u001b[39;49m\u001b[39m.\u001b[39;49m_tracking_client\u001b[39m.\u001b[39;49mdelete_experiment(experiment_id)\n",
      "File \u001b[0;32m~/mambaforge/envs/kaggle_paris/lib/python3.10/site-packages/mlflow/tracking/_tracking_service/client.py:248\u001b[0m, in \u001b[0;36mTrackingServiceClient.delete_experiment\u001b[0;34m(self, experiment_id)\u001b[0m\n\u001b[1;32m    242\u001b[0m \u001b[39mdef\u001b[39;00m \u001b[39mdelete_experiment\u001b[39m(\u001b[39mself\u001b[39m, experiment_id):\n\u001b[1;32m    243\u001b[0m \u001b[39m    \u001b[39m\u001b[39m\"\"\"\u001b[39;00m\n\u001b[1;32m    244\u001b[0m \u001b[39m    Delete an experiment from the backend store.\u001b[39;00m\n\u001b[1;32m    245\u001b[0m \n\u001b[1;32m    246\u001b[0m \u001b[39m    :param experiment_id: The experiment ID returned from ``create_experiment``.\u001b[39;00m\n\u001b[1;32m    247\u001b[0m \u001b[39m    \"\"\"\u001b[39;00m\n\u001b[0;32m--> 248\u001b[0m     \u001b[39mself\u001b[39;49m\u001b[39m.\u001b[39;49mstore\u001b[39m.\u001b[39;49mdelete_experiment(experiment_id)\n",
      "File \u001b[0;32m~/mambaforge/envs/kaggle_paris/lib/python3.10/site-packages/mlflow/store/tracking/file_store.py:437\u001b[0m, in \u001b[0;36mFileStore.delete_experiment\u001b[0;34m(self, experiment_id)\u001b[0m\n\u001b[1;32m    435\u001b[0m experiment_dir \u001b[39m=\u001b[39m \u001b[39mself\u001b[39m\u001b[39m.\u001b[39m_get_experiment_path(experiment_id, ViewType\u001b[39m.\u001b[39mACTIVE_ONLY)\n\u001b[1;32m    436\u001b[0m \u001b[39mif\u001b[39;00m experiment_dir \u001b[39mis\u001b[39;00m \u001b[39mNone\u001b[39;00m:\n\u001b[0;32m--> 437\u001b[0m     \u001b[39mraise\u001b[39;00m MlflowException(\n\u001b[1;32m    438\u001b[0m         \u001b[39mf\u001b[39m\u001b[39m\"\u001b[39m\u001b[39mCould not find experiment with ID \u001b[39m\u001b[39m{\u001b[39;00mexperiment_id\u001b[39m}\u001b[39;00m\u001b[39m\"\u001b[39m,\n\u001b[1;32m    439\u001b[0m         databricks_pb2\u001b[39m.\u001b[39mRESOURCE_DOES_NOT_EXIST,\n\u001b[1;32m    440\u001b[0m     )\n\u001b[1;32m    441\u001b[0m experiment \u001b[39m=\u001b[39m \u001b[39mself\u001b[39m\u001b[39m.\u001b[39m_get_experiment(experiment_id)\n\u001b[1;32m    442\u001b[0m experiment\u001b[39m.\u001b[39m_lifecycle_stage \u001b[39m=\u001b[39m LifecycleStage\u001b[39m.\u001b[39mDELETED\n",
      "\u001b[0;31mMlflowException\u001b[0m: Could not find experiment with ID 106250860003603377"
     ]
    }
   ],
   "source": [
    "mlflow.delete_experiment('106250860003603377')"
   ]
  },
  {
   "cell_type": "code",
   "execution_count": null,
   "metadata": {},
   "outputs": [],
   "source": [
    "all_experiments = client.search_experiments()"
   ]
  },
  {
   "cell_type": "code",
   "execution_count": null,
   "metadata": {},
   "outputs": [],
   "source": [
    "all_experiments"
   ]
  },
  {
   "cell_type": "code",
   "execution_count": null,
   "metadata": {},
   "outputs": [],
   "source": [
    "with mlflow.start_run():\n",
    "    mlflow.doctor()"
   ]
  },
  {
   "cell_type": "code",
   "execution_count": null,
   "metadata": {},
   "outputs": [],
   "source": []
  },
  {
   "cell_type": "code",
   "execution_count": null,
   "metadata": {},
   "outputs": [],
   "source": []
  },
  {
   "cell_type": "code",
   "execution_count": null,
   "metadata": {},
   "outputs": [],
   "source": []
  },
  {
   "cell_type": "code",
   "execution_count": null,
   "metadata": {},
   "outputs": [],
   "source": []
  },
  {
   "cell_type": "code",
   "execution_count": null,
   "metadata": {},
   "outputs": [],
   "source": []
  },
  {
   "cell_type": "code",
   "execution_count": null,
   "metadata": {},
   "outputs": [],
   "source": []
  },
  {
   "cell_type": "code",
   "execution_count": null,
   "metadata": {},
   "outputs": [],
   "source": []
  },
  {
   "cell_type": "code",
   "execution_count": null,
   "metadata": {},
   "outputs": [],
   "source": []
  }
 ],
 "metadata": {
  "kernelspec": {
   "display_name": "kaggle_paris",
   "language": "python",
   "name": "python3"
  },
  "language_info": {
   "codemirror_mode": {
    "name": "ipython",
    "version": 3
   },
   "file_extension": ".py",
   "mimetype": "text/x-python",
   "name": "python",
   "nbconvert_exporter": "python",
   "pygments_lexer": "ipython3",
   "version": "3.10.13"
  }
 },
 "nbformat": 4,
 "nbformat_minor": 2
}
