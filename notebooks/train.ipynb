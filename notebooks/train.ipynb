{
 "cells": [
  {
   "cell_type": "code",
   "execution_count": 1,
   "metadata": {},
   "outputs": [],
   "source": [
    "import sys\n",
    "from pathlib import Path\n",
    "\n",
    "import hydra\n",
    "from hydra import compose, initialize\n",
    "from omegaconf import DictConfig\n",
    "import polars as pl\n",
    "from prefect import flow, get_run_logger\n",
    "from sklearn.linear_model import LinearRegression\n",
    "import mlflow\n",
    "import mlflow.sklearn\n",
    "from skl2onnx import convert_sklearn\n",
    "from skl2onnx.common.data_types import FloatTensorType\n",
    "from onnx import save_model as save_model_onnx"
   ]
  },
  {
   "cell_type": "code",
   "execution_count": 2,
   "metadata": {},
   "outputs": [],
   "source": [
    "with initialize(version_base=\"1.3.2\",\n",
    "                config_path=\"../src/config\",\n",
    "                job_name=\"run_flow\"):\n",
    "    cfg = compose(config_name=\"main\")"
   ]
  },
  {
   "cell_type": "code",
   "execution_count": 3,
   "metadata": {},
   "outputs": [
    {
     "data": {
      "text/plain": [
       "{'keep_columns': ['Income', 'Recency', 'NumWebVisitsMonth', 'Complain', 'age', 'total_purchases', 'enrollment_years', 'family_size'], 'remove_outliers_threshold': {'age': 90, 'income': 600000}}"
      ]
     },
     "execution_count": 3,
     "metadata": {},
     "output_type": "execute_result"
    }
   ],
   "source": [
    "cfg['run']"
   ]
  },
  {
   "cell_type": "code",
   "execution_count": null,
   "metadata": {},
   "outputs": [],
   "source": []
  },
  {
   "cell_type": "code",
   "execution_count": 4,
   "metadata": {},
   "outputs": [],
   "source": [
    "X_train_path = cfg.paths.data.X_train\n",
    "y_train_path = cfg.paths.data.y_train\n",
    "X_train = pl.read_parquet(X_train_path)\n",
    "y_train = pl.read_parquet(y_train_path)"
   ]
  },
  {
   "cell_type": "code",
   "execution_count": 5,
   "metadata": {},
   "outputs": [
    {
     "data": {
      "text/plain": [
       "(17032, 21)"
      ]
     },
     "execution_count": 5,
     "metadata": {},
     "output_type": "execute_result"
    }
   ],
   "source": [
    "X_train.shape"
   ]
  },
  {
   "cell_type": "code",
   "execution_count": 6,
   "metadata": {},
   "outputs": [
    {
     "data": {
      "text/plain": [
       "(17032, 1)"
      ]
     },
     "execution_count": 6,
     "metadata": {},
     "output_type": "execute_result"
    }
   ],
   "source": [
    "y_train.shape"
   ]
  },
  {
   "cell_type": "code",
   "execution_count": 7,
   "metadata": {},
   "outputs": [
    {
     "name": "stdout",
     "output_type": "stream",
     "text": [
      "Rows: 17032\n",
      "Columns: 21\n",
      "$ age                      <i64> 23, 23, 17, 16, 30, 25, 14, 5, 24, 9\n",
      "$ attic                    <i64> 7652, 6386, 2909, 9349, 1227, 6431, 810, 7505, 1841, 2336\n",
      "$ attic_z_score_abs        <f64> 0.834380303335952, 0.42565303801806165, 0.6968941195730165, 1.3822556344927135, 1.2399267106193763, 0.44018125834926625, 1.3745548856885395, 0.7869214502540169, 1.0416972154336066, 0.8818867917903556\n",
      "$ basement                 <i64> 111, 7438, 3726, 438, 2272, 1555, 274, 1244, 815, 8889\n",
      "$ basement_z_score_abs     <f64> 1.6975248822235078, 0.7070416790250115, 0.5111582766668821, 1.5902103925922446, 0.9883303498285235, 1.2236345977356053, 1.6440317268415632, 1.3256982254888863, 1.4664869595922867, 1.1832292155845312\n",
      "$ cityCode                 <i64> 12300, 55157, 68416, 69322, 10826, 47070, 85121, 56506, 75957, 19270\n",
      "$ cityPartRange            <i64> 5, 4, 5, 5, 6, 5, 8, 6, 10, 4\n",
      "$ floors                   <i64> 42, 87, 60, 49, 79, 39, 49, 18, 37, 60\n",
      "$ floors_z_score_abs       <f64> 0.11095365569273345, 0.8308750028568174, 0.26577780772708687, 0.03555302452608555, 0.6634387968924528, 0.17374223292937016, 0.03555302452608555, 0.6132622735858272, 0.2156012844204613, 0.26577780772708687\n",
      "$ garage                   <i64> 940, 576, 838, 516, 558, 573, 278, 551, 433, 533\n",
      "$ garage_z_score_abs       <f64> 1.4899533836907533, 0.16553536115900447, 1.1188252564977907, 0.052775301895679416, 0.10004216224259929, 0.15461982800627025, 0.9187409320125921, 0.07457258488621951, 0.35477171912132544, 0.009079385969814346\n",
      "$ hasGuestRoom             <i64> 9, 0, 5, 6, 8, 1, 4, 10, 6, 7\n",
      "$ hasPool                  <i64> 0, 0, 0, 0, 0, 0, 1, 0, 0, 1\n",
      "$ hasStorageRoom           <i64> 1, 1, 0, 0, 1, 1, 1, 1, 0, 0\n",
      "$ hasStormProtector        <i64> 1, 1, 0, 0, 0, 0, 1, 0, 1, 0\n",
      "$ hasYard                  <i64> 1, 0, 0, 0, 1, 0, 1, 0, 0, 0\n",
      "$ isNewBuilt               <i64> 1, 0, 1, 1, 1, 1, 1, 1, 1, 0\n",
      "$ numPrevOwners            <i64> 10, 10, 9, 7, 5, 9, 2, 6, 3, 2\n",
      "$ numberOfRooms            <i64> 6, 21, 86, 78, 25, 22, 24, 18, 84, 76\n",
      "$ squareMeters             <i64> 29570, 99227, 51744, 84387, 7788, 43215, 76231, 9329, 26089, 61761\n",
      "$ squareMeters_z_score_abs <f64> 0.343461470414509, 1.0630855541375142, 0.10428640449277331, 0.7634292691359778, 0.7832938962840148, 0.06793518949496956, 0.5987394672173435, 0.752177296877858, 0.41375146556884507, 0.30655439686881036\n",
      "\n"
     ]
    }
   ],
   "source": [
    "X_train.glimpse()"
   ]
  },
  {
   "cell_type": "code",
   "execution_count": null,
   "metadata": {},
   "outputs": [],
   "source": []
  },
  {
   "cell_type": "code",
   "execution_count": 9,
   "metadata": {},
   "outputs": [
    {
     "name": "stderr",
     "output_type": "stream",
     "text": [
      "2023/11/25 15:43:49 WARNING mlflow.utils.autologging_utils: MLflow autologging encountered a warning: \"/Users/zacklarsen/mambaforge/envs/kaggle_paris/lib/python3.10/site-packages/mlflow/data/pandas_dataset.py:116: UserWarning: Hint: Inferred schema contains integer column(s). Integer columns in Python cannot represent missing values. If your input data contains missing values at inference time, it will be encoded as floats and will cause a schema enforcement error. The best way to avoid this problem is to infer the model schema based on a realistic data sample (training dataset) that includes missing values. Alternatively, you can declare integer columns as doubles (float64) whenever these columns may have missing values. See `Handling Integers With Missing Values <https://www.mlflow.org/docs/latest/models.html#handling-integers-with-missing-values>`_ for more details.\"\n",
      "2023/11/25 15:43:49 WARNING mlflow.utils.autologging_utils: MLflow autologging encountered a warning: \"/Users/zacklarsen/mambaforge/envs/kaggle_paris/lib/python3.10/site-packages/mlflow/models/signature.py:152: UserWarning: Hint: Inferred schema contains integer column(s). Integer columns in Python cannot represent missing values. If your input data contains missing values at inference time, it will be encoded as floats and will cause a schema enforcement error. The best way to avoid this problem is to infer the model schema based on a realistic data sample (training dataset) that includes missing values. Alternatively, you can declare integer columns as doubles (float64) whenever these columns may have missing values. See `Handling Integers With Missing Values <https://www.mlflow.org/docs/latest/models.html#handling-integers-with-missing-values>`_ for more details.\"\n"
     ]
    }
   ],
   "source": [
    "mlflow.set_tracking_uri(\"sqlite:///mlruns/mlflow.db\")\n",
    "mlflow.set_experiment(\"Kaggle Paris Housing\")\n",
    "with mlflow.start_run(run_name=\"LR_model\"):\n",
    "    mlflow.sklearn.autolog()\n",
    "    model = LinearRegression()\n",
    "    model.fit(X_train.to_pandas(), y_train.to_pandas())\n",
    "    # mlflow.sklearn.log_model(model, \"LR_model\")  # TODO: Figure out if this is necessary; does the autolog log the model as well?\n",
    "mlflow.end_run()"
   ]
  },
  {
   "cell_type": "code",
   "execution_count": null,
   "metadata": {},
   "outputs": [],
   "source": []
  },
  {
   "cell_type": "markdown",
   "metadata": {},
   "source": []
  }
 ],
 "metadata": {
  "kernelspec": {
   "display_name": "kaggle_paris",
   "language": "python",
   "name": "python3"
  },
  "language_info": {
   "codemirror_mode": {
    "name": "ipython",
    "version": 3
   },
   "file_extension": ".py",
   "mimetype": "text/x-python",
   "name": "python",
   "nbconvert_exporter": "python",
   "pygments_lexer": "ipython3",
   "version": "3.10.13"
  }
 },
 "nbformat": 4,
 "nbformat_minor": 2
}
