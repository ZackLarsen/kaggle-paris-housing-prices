{
 "cells": [
  {
   "cell_type": "code",
   "execution_count": 1,
   "metadata": {},
   "outputs": [],
   "source": [
    "import sys\n",
    "from pathlib import Path\n",
    "\n",
    "import hydra\n",
    "from hydra import compose, initialize\n",
    "from omegaconf import DictConfig\n",
    "import polars as pl\n",
    "from prefect import flow, get_run_logger\n",
    "from sklearn.linear_model import LinearRegression\n",
    "import mlflow\n",
    "import mlflow.sklearn\n",
    "from skl2onnx import convert_sklearn\n",
    "from skl2onnx.common.data_types import FloatTensorType\n",
    "from onnx import save_model as save_model_onnx"
   ]
  },
  {
   "cell_type": "code",
   "execution_count": 16,
   "metadata": {},
   "outputs": [],
   "source": [
    "pl.Config.set_tbl_formatting('NOTHING')\n",
    "pl.Config.set_float_precision(3)\n",
    "pl.Config.set_fmt_str_lengths(20)\n",
    "pl.Config.set_thousands_separator(True)\n",
    "pl.Config.set_tbl_hide_column_data_types(False)\n",
    "pl.Config.save_to_file(\"/Users/zacklarsen/Documents/Projects/kaggle/kaggle-paris-housing-prices/src/config/pl_config.json\")"
   ]
  },
  {
   "cell_type": "code",
   "execution_count": 17,
   "metadata": {},
   "outputs": [
    {
     "data": {
      "text/plain": [
       "polars.config.Config"
      ]
     },
     "execution_count": 17,
     "metadata": {},
     "output_type": "execute_result"
    }
   ],
   "source": [
    "pl.Config.load_from_file(\"/Users/zacklarsen/Documents/Projects/kaggle/kaggle-paris-housing-prices/src/config/pl_config.json\")"
   ]
  },
  {
   "cell_type": "code",
   "execution_count": 2,
   "metadata": {},
   "outputs": [],
   "source": [
    "with initialize(version_base=\"1.3.2\",\n",
    "                config_path=\"../src/config\",\n",
    "                job_name=\"run_flow\"):\n",
    "    cfg = compose(config_name=\"main\")"
   ]
  },
  {
   "cell_type": "code",
   "execution_count": 3,
   "metadata": {},
   "outputs": [
    {
     "data": {
      "text/plain": [
       "{'keep_columns': ['Income', 'Recency', 'NumWebVisitsMonth', 'Complain', 'age', 'total_purchases', 'enrollment_years', 'family_size'], 'remove_outliers_threshold': {'age': 90, 'income': 600000}}"
      ]
     },
     "execution_count": 3,
     "metadata": {},
     "output_type": "execute_result"
    }
   ],
   "source": [
    "cfg['run']"
   ]
  },
  {
   "cell_type": "code",
   "execution_count": null,
   "metadata": {},
   "outputs": [],
   "source": []
  },
  {
   "cell_type": "code",
   "execution_count": 4,
   "metadata": {},
   "outputs": [],
   "source": [
    "X_train_path = cfg.paths.data.X_train\n",
    "y_train_path = cfg.paths.data.y_train\n",
    "X_train = pl.read_parquet(X_train_path)\n",
    "y_train = pl.read_parquet(y_train_path)"
   ]
  },
  {
   "cell_type": "code",
   "execution_count": 5,
   "metadata": {},
   "outputs": [
    {
     "data": {
      "text/plain": [
       "(17032, 21)"
      ]
     },
     "execution_count": 5,
     "metadata": {},
     "output_type": "execute_result"
    }
   ],
   "source": [
    "X_train.shape"
   ]
  },
  {
   "cell_type": "code",
   "execution_count": 6,
   "metadata": {},
   "outputs": [
    {
     "data": {
      "text/plain": [
       "(17032, 1)"
      ]
     },
     "execution_count": 6,
     "metadata": {},
     "output_type": "execute_result"
    }
   ],
   "source": [
    "y_train.shape"
   ]
  },
  {
   "cell_type": "code",
   "execution_count": 18,
   "metadata": {},
   "outputs": [
    {
     "data": {
      "text/html": [
       "<div><style>\n",
       ".dataframe > thead > tr,\n",
       ".dataframe > tbody > tr {\n",
       "  text-align: right;\n",
       "  white-space: pre-wrap;\n",
       "}\n",
       "</style>\n",
       "<small>shape: (17_032, 21)</small><table border=\"1\" class=\"dataframe\"><thead><tr><th>age</th><th>attic</th><th>attic_z_score_abs</th><th>basement</th><th>basement_z_score_abs</th><th>cityCode</th><th>cityPartRange</th><th>floors</th><th>floors_z_score_abs</th><th>garage</th><th>garage_z_score_abs</th><th>hasGuestRoom</th><th>hasPool</th><th>hasStorageRoom</th><th>hasStormProtector</th><th>hasYard</th><th>isNewBuilt</th><th>numPrevOwners</th><th>numberOfRooms</th><th>squareMeters</th><th>squareMeters_z_score_abs</th></tr><tr><td>i64</td><td>i64</td><td>f64</td><td>i64</td><td>f64</td><td>i64</td><td>i64</td><td>i64</td><td>f64</td><td>i64</td><td>f64</td><td>i64</td><td>i64</td><td>i64</td><td>i64</td><td>i64</td><td>i64</td><td>i64</td><td>i64</td><td>i64</td><td>f64</td></tr></thead><tbody><tr><td>23</td><td>7,652</td><td>0.834</td><td>111</td><td>1.698</td><td>12,300</td><td>5</td><td>42</td><td>0.111</td><td>940</td><td>1.490</td><td>9</td><td>0</td><td>1</td><td>1</td><td>1</td><td>1</td><td>10</td><td>6</td><td>29,570</td><td>0.343</td></tr><tr><td>23</td><td>6,386</td><td>0.426</td><td>7,438</td><td>0.707</td><td>55,157</td><td>4</td><td>87</td><td>0.831</td><td>576</td><td>0.166</td><td>0</td><td>0</td><td>1</td><td>1</td><td>0</td><td>0</td><td>10</td><td>21</td><td>99,227</td><td>1.063</td></tr><tr><td>17</td><td>2,909</td><td>0.697</td><td>3,726</td><td>0.511</td><td>68,416</td><td>5</td><td>60</td><td>0.266</td><td>838</td><td>1.119</td><td>5</td><td>0</td><td>0</td><td>0</td><td>0</td><td>1</td><td>9</td><td>86</td><td>51,744</td><td>0.104</td></tr><tr><td>16</td><td>9,349</td><td>1.382</td><td>438</td><td>1.590</td><td>69,322</td><td>5</td><td>49</td><td>0.036</td><td>516</td><td>0.053</td><td>6</td><td>0</td><td>0</td><td>0</td><td>0</td><td>1</td><td>7</td><td>78</td><td>84,387</td><td>0.763</td></tr><tr><td>30</td><td>1,227</td><td>1.240</td><td>2,272</td><td>0.988</td><td>10,826</td><td>6</td><td>79</td><td>0.663</td><td>558</td><td>0.100</td><td>8</td><td>0</td><td>1</td><td>0</td><td>1</td><td>1</td><td>5</td><td>25</td><td>7,788</td><td>0.783</td></tr><tr><td>25</td><td>6,431</td><td>0.440</td><td>1,555</td><td>1.224</td><td>47,070</td><td>5</td><td>39</td><td>0.174</td><td>573</td><td>0.155</td><td>1</td><td>0</td><td>1</td><td>0</td><td>0</td><td>1</td><td>9</td><td>22</td><td>43,215</td><td>0.068</td></tr><tr><td>14</td><td>810</td><td>1.375</td><td>274</td><td>1.644</td><td>85,121</td><td>8</td><td>49</td><td>0.036</td><td>278</td><td>0.919</td><td>4</td><td>1</td><td>1</td><td>1</td><td>1</td><td>1</td><td>2</td><td>24</td><td>76,231</td><td>0.599</td></tr><tr><td>5</td><td>7,505</td><td>0.787</td><td>1,244</td><td>1.326</td><td>56,506</td><td>6</td><td>18</td><td>0.613</td><td>551</td><td>0.075</td><td>10</td><td>0</td><td>1</td><td>0</td><td>0</td><td>1</td><td>6</td><td>18</td><td>9,329</td><td>0.752</td></tr><tr><td>24</td><td>1,841</td><td>1.042</td><td>815</td><td>1.466</td><td>75,957</td><td>10</td><td>37</td><td>0.216</td><td>433</td><td>0.355</td><td>6</td><td>0</td><td>0</td><td>1</td><td>0</td><td>1</td><td>3</td><td>84</td><td>26,089</td><td>0.414</td></tr><tr><td>9</td><td>2,336</td><td>0.882</td><td>8,889</td><td>1.183</td><td>19,270</td><td>4</td><td>60</td><td>0.266</td><td>533</td><td>0.009</td><td>7</td><td>1</td><td>0</td><td>0</td><td>0</td><td>0</td><td>2</td><td>76</td><td>61,761</td><td>0.307</td></tr><tr><td>9</td><td>2,714</td><td>0.760</td><td>3,815</td><td>0.482</td><td>28,155</td><td>2</td><td>37</td><td>0.216</td><td>775</td><td>0.890</td><td>2</td><td>1</td><td>0</td><td>0</td><td>1</td><td>0</td><td>2</td><td>85</td><td>98,403</td><td>1.046</td></tr><tr><td>8</td><td>732</td><td>1.400</td><td>812</td><td>1.467</td><td>97,769</td><td>6</td><td>26</td><td>0.446</td><td>813</td><td>1.028</td><td>4</td><td>1</td><td>0</td><td>0</td><td>1</td><td>1</td><td>2</td><td>26</td><td>1,175</td><td>0.917</td></tr><tr><td>&hellip;</td><td>&hellip;</td><td>&hellip;</td><td>&hellip;</td><td>&hellip;</td><td>&hellip;</td><td>&hellip;</td><td>&hellip;</td><td>&hellip;</td><td>&hellip;</td><td>&hellip;</td><td>&hellip;</td><td>&hellip;</td><td>&hellip;</td><td>&hellip;</td><td>&hellip;</td><td>&hellip;</td><td>&hellip;</td><td>&hellip;</td><td>&hellip;</td><td>&hellip;</td></tr><tr><td>20</td><td>5,128</td><td>0.020</td><td>8,039</td><td>0.904</td><td>19,155</td><td>5</td><td>81</td><td>0.705</td><td>123</td><td>1.483</td><td>2</td><td>0</td><td>0</td><td>0</td><td>1</td><td>1</td><td>10</td><td>37</td><td>66,279</td><td>0.398</td></tr><tr><td>4</td><td>4,962</td><td>0.034</td><td>8,158</td><td>0.943</td><td>79,725</td><td>9</td><td>7</td><td>0.843</td><td>468</td><td>0.227</td><td>8</td><td>0</td><td>0</td><td>0</td><td>0</td><td>0</td><td>4</td><td>49</td><td>87,603</td><td>0.828</td></tr><tr><td>7</td><td>6,233</td><td>0.376</td><td>8,181</td><td>0.951</td><td>51,535</td><td>8</td><td>16</td><td>0.655</td><td>533</td><td>0.009</td><td>5</td><td>0</td><td>1</td><td>1</td><td>1</td><td>1</td><td>6</td><td>4</td><td>22,585</td><td>0.485</td></tr><tr><td>23</td><td>4,592</td><td>0.154</td><td>8,449</td><td>1.039</td><td>83,970</td><td>1</td><td>64</td><td>0.349</td><td>747</td><td>0.788</td><td>4</td><td>0</td><td>1</td><td>0</td><td>1</td><td>0</td><td>5</td><td>98</td><td>4,487</td><td>0.850</td></tr><tr><td>16</td><td>6,598</td><td>0.494</td><td>6,678</td><td>0.458</td><td>15,140</td><td>4</td><td>4</td><td>0.906</td><td>167</td><td>1.323</td><td>6</td><td>0</td><td>0</td><td>1</td><td>1</td><td>0</td><td>3</td><td>87</td><td>87,204</td><td>0.820</td></tr><tr><td>22</td><td>6,676</td><td>0.519</td><td>8,743</td><td>1.135</td><td>84,589</td><td>4</td><td>34</td><td>0.278</td><td>241</td><td>1.053</td><td>5</td><td>0</td><td>0</td><td>0</td><td>1</td><td>0</td><td>10</td><td>97</td><td>70,126</td><td>0.475</td></tr><tr><td>6</td><td>6,584</td><td>0.490</td><td>9,244</td><td>1.300</td><td>22,818</td><td>9</td><td>64</td><td>0.349</td><td>705</td><td>0.635</td><td>7</td><td>1</td><td>0</td><td>1</td><td>0</td><td>0</td><td>2</td><td>62</td><td>48,577</td><td>0.040</td></tr><tr><td>5</td><td>4,493</td><td>0.186</td><td>96</td><td>1.702</td><td>57,742</td><td>2</td><td>18</td><td>0.613</td><td>912</td><td>1.388</td><td>5</td><td>0</td><td>0</td><td>0</td><td>0</td><td>1</td><td>5</td><td>19</td><td>44,248</td><td>0.047</td></tr><tr><td>3</td><td>5,435</td><td>0.119</td><td>3,879</td><td>0.461</td><td>2,527</td><td>8</td><td>44</td><td>0.069</td><td>185</td><td>1.257</td><td>7</td><td>0</td><td>1</td><td>0</td><td>1</td><td>1</td><td>7</td><td>38</td><td>76,256</td><td>0.599</td></tr><tr><td>25</td><td>4,910</td><td>0.051</td><td>4,208</td><td>0.353</td><td>58,072</td><td>7</td><td>81</td><td>0.705</td><td>122</td><td>1.486</td><td>3</td><td>0</td><td>1</td><td>0</td><td>0</td><td>1</td><td>6</td><td>41</td><td>22,563</td><td>0.485</td></tr><tr><td>16</td><td>6,867</td><td>0.581</td><td>4,286</td><td>0.327</td><td>68,761</td><td>8</td><td>38</td><td>0.195</td><td>805</td><td>0.999</td><td>8</td><td>1</td><td>1</td><td>0</td><td>0</td><td>1</td><td>8</td><td>56</td><td>32,060</td><td>0.293</td></tr><tr><td>23</td><td>965</td><td>1.325</td><td>2,829</td><td>0.806</td><td>42,304</td><td>3</td><td>77</td><td>0.622</td><td>190</td><td>1.239</td><td>2</td><td>1</td><td>0</td><td>1</td><td>1</td><td>1</td><td>7</td><td>50</td><td>14,954</td><td>0.639</td></tr></tbody></table></div>"
      ],
      "text/plain": [
       "shape: (17_032, 21)\n",
       " age  attic  attic_z_score_  basement  …  numPrevOwners  numberOfRooms  squareMeters  squareMeters_ \n",
       " ---  ---    abs             ---          ---            ---            ---           z_score…      \n",
       " i64  i64    ---             i64          i64            i64            i64           ---           \n",
       "             f64                                                                      f64           \n",
       " 23   7,652  0.834           111       …  10             6              29,570        0.343         \n",
       " 23   6,386  0.426           7,438     …  10             21             99,227        1.063         \n",
       " 17   2,909  0.697           3,726     …  9              86             51,744        0.104         \n",
       " 16   9,349  1.382           438       …  7              78             84,387        0.763         \n",
       " …    …      …               …         …  …              …              …             …             \n",
       " 3    5,435  0.119           3,879     …  7              38             76,256        0.599         \n",
       " 25   4,910  0.051           4,208     …  6              41             22,563        0.485         \n",
       " 16   6,867  0.581           4,286     …  8              56             32,060        0.293         \n",
       " 23   965    1.325           2,829     …  7              50             14,954        0.639         "
      ]
     },
     "execution_count": 18,
     "metadata": {},
     "output_type": "execute_result"
    }
   ],
   "source": [
    "X_train"
   ]
  },
  {
   "cell_type": "code",
   "execution_count": 7,
   "metadata": {},
   "outputs": [
    {
     "name": "stdout",
     "output_type": "stream",
     "text": [
      "Rows: 17032\n",
      "Columns: 21\n",
      "$ age                      <i64> 23, 23, 17, 16, 30, 25, 14, 5, 24, 9\n",
      "$ attic                    <i64> 7652, 6386, 2909, 9349, 1227, 6431, 810, 7505, 1841, 2336\n",
      "$ attic_z_score_abs        <f64> 0.834380303335952, 0.42565303801806165, 0.6968941195730165, 1.3822556344927135, 1.2399267106193763, 0.44018125834926625, 1.3745548856885395, 0.7869214502540169, 1.0416972154336066, 0.8818867917903556\n",
      "$ basement                 <i64> 111, 7438, 3726, 438, 2272, 1555, 274, 1244, 815, 8889\n",
      "$ basement_z_score_abs     <f64> 1.6975248822235078, 0.7070416790250115, 0.5111582766668821, 1.5902103925922446, 0.9883303498285235, 1.2236345977356053, 1.6440317268415632, 1.3256982254888863, 1.4664869595922867, 1.1832292155845312\n",
      "$ cityCode                 <i64> 12300, 55157, 68416, 69322, 10826, 47070, 85121, 56506, 75957, 19270\n",
      "$ cityPartRange            <i64> 5, 4, 5, 5, 6, 5, 8, 6, 10, 4\n",
      "$ floors                   <i64> 42, 87, 60, 49, 79, 39, 49, 18, 37, 60\n",
      "$ floors_z_score_abs       <f64> 0.11095365569273345, 0.8308750028568174, 0.26577780772708687, 0.03555302452608555, 0.6634387968924528, 0.17374223292937016, 0.03555302452608555, 0.6132622735858272, 0.2156012844204613, 0.26577780772708687\n",
      "$ garage                   <i64> 940, 576, 838, 516, 558, 573, 278, 551, 433, 533\n",
      "$ garage_z_score_abs       <f64> 1.4899533836907533, 0.16553536115900447, 1.1188252564977907, 0.052775301895679416, 0.10004216224259929, 0.15461982800627025, 0.9187409320125921, 0.07457258488621951, 0.35477171912132544, 0.009079385969814346\n",
      "$ hasGuestRoom             <i64> 9, 0, 5, 6, 8, 1, 4, 10, 6, 7\n",
      "$ hasPool                  <i64> 0, 0, 0, 0, 0, 0, 1, 0, 0, 1\n",
      "$ hasStorageRoom           <i64> 1, 1, 0, 0, 1, 1, 1, 1, 0, 0\n",
      "$ hasStormProtector        <i64> 1, 1, 0, 0, 0, 0, 1, 0, 1, 0\n",
      "$ hasYard                  <i64> 1, 0, 0, 0, 1, 0, 1, 0, 0, 0\n",
      "$ isNewBuilt               <i64> 1, 0, 1, 1, 1, 1, 1, 1, 1, 0\n",
      "$ numPrevOwners            <i64> 10, 10, 9, 7, 5, 9, 2, 6, 3, 2\n",
      "$ numberOfRooms            <i64> 6, 21, 86, 78, 25, 22, 24, 18, 84, 76\n",
      "$ squareMeters             <i64> 29570, 99227, 51744, 84387, 7788, 43215, 76231, 9329, 26089, 61761\n",
      "$ squareMeters_z_score_abs <f64> 0.343461470414509, 1.0630855541375142, 0.10428640449277331, 0.7634292691359778, 0.7832938962840148, 0.06793518949496956, 0.5987394672173435, 0.752177296877858, 0.41375146556884507, 0.30655439686881036\n",
      "\n"
     ]
    }
   ],
   "source": [
    "X_train.glimpse()"
   ]
  },
  {
   "cell_type": "code",
   "execution_count": null,
   "metadata": {},
   "outputs": [],
   "source": []
  },
  {
   "cell_type": "code",
   "execution_count": 19,
   "metadata": {},
   "outputs": [
    {
     "name": "stderr",
     "output_type": "stream",
     "text": [
      "2023/11/26 09:08:31 INFO mlflow.tracking.fluent: Experiment with name 'Kaggle Paris Housing' does not exist. Creating a new experiment.\n",
      "2023/11/26 09:08:32 WARNING mlflow.utils.autologging_utils: MLflow autologging encountered a warning: \"/Users/zacklarsen/mambaforge/envs/kaggle_paris/lib/python3.10/site-packages/mlflow/data/pandas_dataset.py:116: UserWarning: Hint: Inferred schema contains integer column(s). Integer columns in Python cannot represent missing values. If your input data contains missing values at inference time, it will be encoded as floats and will cause a schema enforcement error. The best way to avoid this problem is to infer the model schema based on a realistic data sample (training dataset) that includes missing values. Alternatively, you can declare integer columns as doubles (float64) whenever these columns may have missing values. See `Handling Integers With Missing Values <https://www.mlflow.org/docs/latest/models.html#handling-integers-with-missing-values>`_ for more details.\"\n",
      "2023/11/26 09:08:32 WARNING mlflow.utils.autologging_utils: Encountered unexpected error during sklearn autologging: [Errno 30] Read-only file system: '/zacklarsen'\n"
     ]
    }
   ],
   "source": [
    "# mlflow.set_tracking_uri(\"sqlite:///mlruns/mlflow.db\")\n",
    "mlflow.set_tracking_uri('file:///Users/zacklarsen/Documents/Projects/kaggle/kaggle-paris-housing-prices/mlruns')\n",
    "mlflow.set_experiment(\"Kaggle Paris Housing\")\n",
    "with mlflow.start_run(run_name=\"LR_model\"):\n",
    "    mlflow.sklearn.autolog()\n",
    "    model = LinearRegression()\n",
    "    model.fit(X_train.to_pandas(), y_train.to_pandas())\n",
    "    # mlflow.sklearn.log_model(model, \"LR_model\")  # TODO: Figure out if this is necessary; does the autolog log the model as well?\n",
    "mlflow.end_run()"
   ]
  },
  {
   "cell_type": "code",
   "execution_count": null,
   "metadata": {},
   "outputs": [],
   "source": []
  },
  {
   "cell_type": "markdown",
   "metadata": {},
   "source": []
  }
 ],
 "metadata": {
  "kernelspec": {
   "display_name": "kaggle_paris",
   "language": "python",
   "name": "python3"
  },
  "language_info": {
   "codemirror_mode": {
    "name": "ipython",
    "version": 3
   },
   "file_extension": ".py",
   "mimetype": "text/x-python",
   "name": "python",
   "nbconvert_exporter": "python",
   "pygments_lexer": "ipython3",
   "version": "3.10.13"
  }
 },
 "nbformat": 4,
 "nbformat_minor": 2
}
